{
  "cells": [
    {
      "cell_type": "markdown",
      "metadata": {
        "id": "view-in-github",
        "colab_type": "text"
      },
      "source": [
        "<a href=\"https://colab.research.google.com/github/chhavi007-bit/Healthcare-Follw-Up/blob/main/AI_Powered_Healthcare_Risk_Detection.ipynb\" target=\"_parent\"><img src=\"https://colab.research.google.com/assets/colab-badge.svg\" alt=\"Open In Colab\"/></a>"
      ]
    },
    {
      "cell_type": "code",
      "execution_count": null,
      "metadata": {
        "id": "utxWvt6B7t-K"
      },
      "outputs": [],
      "source": [
        "import numpy as np\n",
        "import pandas as pd\n",
        "import io\n",
        "import matplotlib.pyplot as plt\n",
        "import seaborn as sns\n",
        "import gspread"
      ]
    },
    {
      "cell_type": "markdown",
      "metadata": {
        "id": "2QAWVj1nVPVU"
      },
      "source": [
        "Loading and Reading Data"
      ]
    },
    {
      "cell_type": "code",
      "execution_count": null,
      "metadata": {
        "colab": {
          "base_uri": "https://localhost:8080/"
        },
        "id": "G_LJsOyg3bMr",
        "outputId": "1ed31d7e-f925-4404-9d83-55633bb1648e"
      },
      "outputs": [
        {
          "output_type": "execute_result",
          "data": {
            "text/plain": [
              "(3377, 2)"
            ]
          },
          "metadata": {},
          "execution_count": 2
        }
      ],
      "source": [
        "from google.colab import auth\n",
        "# Authenticate and authorize Google Sheets access\n",
        "auth.authenticate_user()\n",
        "from google.auth import default\n",
        "creds, _ = default()\n",
        "\n",
        "\n",
        "gc = gspread.authorize(creds)\n",
        "\n",
        "# Replace 'Your spreadsheet name' with the actual name of your spreadsheet\n",
        "# Replace 'Sheet1' with the name of the sheet you want to access\n",
        "# Replace 'NewDataSet' with the correct name of your spreadsheet\n",
        "worksheet = gc.open('gpt-4').worksheet('gpt-4')\n",
        " # Load data into a pandas DataFrame\n",
        "data = worksheet.get_all_values()\n",
        "df = pd.DataFrame(data[1:], columns=data[0])\n",
        "df.shape\n"
      ]
    },
    {
      "cell_type": "code",
      "execution_count": null,
      "metadata": {
        "colab": {
          "base_uri": "https://localhost:8080/"
        },
        "id": "t93LoEtzPUGR",
        "outputId": "cc03980c-f188-4dd8-bb21-5c2bcc1d65c3"
      },
      "outputs": [
        {
          "output_type": "stream",
          "name": "stdout",
          "text": [
            "                                                   data  \\\n",
            "0     This 60-year-old male was hospitalized due to ...   \n",
            "1     A 39-year-old man was hospitalized due to an i...   \n",
            "2     One week after a positive COVID-19 result this...   \n",
            "3     This 69-year-old male was admitted to the ICU ...   \n",
            "4     This 57-year-old male was admitted to the ICU ...   \n",
            "...                                                 ...   \n",
            "3372  A 50-year-old male presented with complaints o...   \n",
            "3373  DC, a 51-year-old male, underwent complete res...   \n",
            "3374  A 69-year-old female patient was diagnosed wit...   \n",
            "3375  A 76-year-old Caucasian, non-smoking female su...   \n",
            "3376  A 20-year-old female presented to the emergenc...   \n",
            "\n",
            "                                           conversation  \n",
            "0     Doctor: Good morning, how are you feeling toda...  \n",
            "1     Doctor: Hello, how are you feeling today?\\nPat...  \n",
            "2     Doctor: Hello, how are you feeling today?\\nPat...  \n",
            "3     Doctor: Hello, how are you feeling today?\\nPat...  \n",
            "4     Doctor: Good morning, how are you feeling toda...  \n",
            "...                                                 ...  \n",
            "3372  Doctor: Hello, how are you feeling today?\\nPat...  \n",
            "3373  Doctor: Good afternoon, DC. How are you feelin...  \n",
            "3374  Doctor: Hello, how are you feeling today?\\nPat...  \n",
            "3375  Doctor: Good morning, how are you feeling toda...  \n",
            "3376  Doctor: Hi there, how are you feeling today?\\n...  \n",
            "\n",
            "[3377 rows x 2 columns]\n"
          ]
        }
      ],
      "source": [
        "print(df)"
      ]
    },
    {
      "cell_type": "markdown",
      "metadata": {
        "id": "2v1s-CCwW5SY"
      },
      "source": [
        "Sampling"
      ]
    },
    {
      "cell_type": "code",
      "execution_count": null,
      "metadata": {
        "colab": {
          "base_uri": "https://localhost:8080/"
        },
        "id": "PWpthSm-PcnR",
        "outputId": "69774e74-b03c-4a07-f287-917f77cb4414"
      },
      "outputs": [
        {
          "output_type": "stream",
          "name": "stdout",
          "text": [
            "                                                   data  \\\n",
            "3263  A 68-year-old female presented with gradual on...   \n",
            "144   This 7-year-old girl is the only child of non-...   \n",
            "1231  Patient A presented as a mostly healthy 15-yea...   \n",
            "3001  A 52-year-old female with breast cancer underw...   \n",
            "1052  A 54-year-old, right-handed unemployed Morocca...   \n",
            "...                                                 ...   \n",
            "464   A 71-year-old woman with a history of a right ...   \n",
            "1956  A 45-year-old Japanese woman with a swelling a...   \n",
            "1061  A 55-year-old Caucasian male with past medical...   \n",
            "2720  A 57-year-old Japanese man was referred to our...   \n",
            "2881  A 51-year-old woman (gravida 3) was admitted t...   \n",
            "\n",
            "                                           conversation  \n",
            "3263  Doctor: Hello, how are you feeling today?\\nPat...  \n",
            "144   Doctor: Hi there, how are you feeling today?\\n...  \n",
            "1231  Doctor: Hello, Patient A. Thank you for coming...  \n",
            "3001  Doctor: Hello, how are you feeling today?\\nPat...  \n",
            "1052  Doctor: Hello, how are you feeling today?\\nPat...  \n",
            "...                                                 ...  \n",
            "464   Doctor: Good afternoon, how are you feeling to...  \n",
            "1956  Doctor: Hello, how are you feeling today?\\nPat...  \n",
            "1061  Doctor: Good morning, how are you feeling toda...  \n",
            "2720  Doctor: Hello, how are you feeling today?\\nPat...  \n",
            "2881  Doctor: Good morning, Mrs. Smith. I see you we...  \n",
            "\n",
            "[1000 rows x 2 columns]\n"
          ]
        }
      ],
      "source": [
        "sample_df = df.sample(n=1000, random_state=42)\n",
        "print(sample_df)"
      ]
    },
    {
      "cell_type": "markdown",
      "metadata": {
        "id": "jVnzY_tLrQzz"
      },
      "source": [
        "clean data\n",
        "- These characters can introduce noise and ambiguity to your data, and may not be relevant for your NLP task."
      ]
    },
    {
      "cell_type": "code",
      "execution_count": null,
      "metadata": {
        "colab": {
          "base_uri": "https://localhost:8080/",
          "height": 418
        },
        "id": "U8LJlDLcR-Wx",
        "outputId": "d8514b92-338e-40dc-bc17-ad9dd3568231"
      },
      "outputs": [
        {
          "output_type": "stream",
          "name": "stdout",
          "text": [
            "3263    A 68yearold female presented with gradual onse...\n",
            "144     This 7yearold girl is the only child of noncon...\n",
            "1231    Patient A presented as a mostly healthy 15year...\n",
            "3001    A 52yearold female with breast cancer underwen...\n",
            "1052    A 54yearold righthanded unemployed Moroccan Be...\n",
            "                              ...                        \n",
            "464     A 71yearold woman with a history of a right hi...\n",
            "1956    A 45yearold Japanese woman with a swelling and...\n",
            "1061    A 55yearold Caucasian male with past medical h...\n",
            "2720    A 57yearold Japanese man was referred to our h...\n",
            "2881    A 51yearold woman gravida 3 was admitted to ou...\n",
            "Name: text_column, Length: 1000, dtype: object\n"
          ]
        },
        {
          "output_type": "execute_result",
          "data": {
            "text/plain": [
              "count                                                  1000\n",
              "unique                                                 1000\n",
              "top       A 68yearold female presented with gradual onse...\n",
              "freq                                                      1\n",
              "Name: text_column, dtype: object"
            ],
            "text/html": [
              "<div>\n",
              "<style scoped>\n",
              "    .dataframe tbody tr th:only-of-type {\n",
              "        vertical-align: middle;\n",
              "    }\n",
              "\n",
              "    .dataframe tbody tr th {\n",
              "        vertical-align: top;\n",
              "    }\n",
              "\n",
              "    .dataframe thead th {\n",
              "        text-align: right;\n",
              "    }\n",
              "</style>\n",
              "<table border=\"1\" class=\"dataframe\">\n",
              "  <thead>\n",
              "    <tr style=\"text-align: right;\">\n",
              "      <th></th>\n",
              "      <th>text_column</th>\n",
              "    </tr>\n",
              "  </thead>\n",
              "  <tbody>\n",
              "    <tr>\n",
              "      <th>count</th>\n",
              "      <td>1000</td>\n",
              "    </tr>\n",
              "    <tr>\n",
              "      <th>unique</th>\n",
              "      <td>1000</td>\n",
              "    </tr>\n",
              "    <tr>\n",
              "      <th>top</th>\n",
              "      <td>A 68yearold female presented with gradual onse...</td>\n",
              "    </tr>\n",
              "    <tr>\n",
              "      <th>freq</th>\n",
              "      <td>1</td>\n",
              "    </tr>\n",
              "  </tbody>\n",
              "</table>\n",
              "</div><br><label><b>dtype:</b> object</label>"
            ]
          },
          "metadata": {},
          "execution_count": 5
        }
      ],
      "source": [
        "import re\n",
        "def clean_text(text):\n",
        "\n",
        "    # Remove special characters and numbers\n",
        "    text = re.sub(r'[^a-zA-Z0-9\\s]', '', text)\n",
        "\n",
        "    # Remove extra spaces\n",
        "    text = re.sub(r'\\s+', ' ', text).strip()\n",
        "    return text\n",
        "\n",
        "sample_df['text_column'] = sample_df['data'] + ' ' + sample_df['conversation'\n",
        "]\n",
        "sample_df['text_column'] = sample_df['text_column'].apply(clean_text)\n",
        "print(sample_df['text_column'])\n",
        "sample_df['text_column'].describe()\n"
      ]
    },
    {
      "cell_type": "markdown",
      "metadata": {
        "id": "NCE0aG7MYAFw"
      },
      "source": [
        "Text Preprocessing"
      ]
    },
    {
      "cell_type": "code",
      "execution_count": null,
      "metadata": {
        "colab": {
          "base_uri": "https://localhost:8080/"
        },
        "id": "oJ-s2F4scC74",
        "outputId": "d6718189-5cff-4d1c-e356-6450044dfc1d"
      },
      "outputs": [
        {
          "output_type": "stream",
          "name": "stderr",
          "text": [
            "[nltk_data] Downloading package punkt to /root/nltk_data...\n",
            "[nltk_data]   Unzipping tokenizers/punkt.zip.\n",
            "[nltk_data] Downloading package stopwords to /root/nltk_data...\n",
            "[nltk_data]   Unzipping corpora/stopwords.zip.\n",
            "[nltk_data] Downloading package wordnet to /root/nltk_data...\n",
            "[nltk_data] Downloading package punkt_tab to /root/nltk_data...\n",
            "[nltk_data]   Unzipping tokenizers/punkt_tab.zip.\n"
          ]
        },
        {
          "output_type": "execute_result",
          "data": {
            "text/plain": [
              "True"
            ]
          },
          "metadata": {},
          "execution_count": 6
        }
      ],
      "source": [
        "import nltk\n",
        "from nltk.corpus import stopwords\n",
        "from nltk.tokenize import word_tokenize\n",
        "from nltk.stem import WordNetLemmatizer\n",
        "\n",
        "\n",
        "nltk.download('punkt')\n",
        "nltk.download('stopwords')\n",
        "nltk.download('wordnet')\n",
        "nltk.download('punkt_tab')\n"
      ]
    },
    {
      "cell_type": "code",
      "execution_count": null,
      "metadata": {
        "id": "gLMuz9iIcHrP"
      },
      "outputs": [],
      "source": [
        "lemmatizer = WordNetLemmatizer()\n",
        "stop_words = set(stopwords.words('english'))\n",
        "\n",
        "def preprocess_text(text):\n",
        "    # Tokenize\n",
        "    tokens = word_tokenize(text.lower())\n",
        "    # Remove stopwords\n",
        "    tokens = [word for word in tokens if word.isalnum() and word not in stop_words]\n",
        "    # Lemmatize\n",
        "    tokens = [lemmatizer.lemmatize(word) for word in tokens]\n",
        "    return \" \".join(tokens)\n",
        "\n",
        "\n",
        "sample_df['processed_text'] = sample_df['text_column'].apply(preprocess_text)\n"
      ]
    },
    {
      "cell_type": "code",
      "execution_count": null,
      "metadata": {
        "colab": {
          "base_uri": "https://localhost:8080/"
        },
        "id": "q7i2py9dcULE",
        "outputId": "02a1d2cf-a78f-433b-c611-ac8d170204ad"
      },
      "outputs": [
        {
          "output_type": "stream",
          "name": "stdout",
          "text": [
            "3263    68yearold female presented gradual onset negat...\n",
            "144     7yearold girl child nonconsanguineous parent b...\n",
            "1231    patient presented mostly healthy 15yearold cau...\n",
            "3001    52yearold female breast cancer underwent left ...\n",
            "1052    54yearold righthanded unemployed moroccan berb...\n",
            "                              ...                        \n",
            "464     71yearold woman history right hip intracapsula...\n",
            "1956    45yearold japanese woman swelling bone exposur...\n",
            "1061    55yearold caucasian male past medical history ...\n",
            "2720    57yearold japanese man referred hospital incre...\n",
            "2881    51yearold woman gravida 3 admitted hospital du...\n",
            "Name: processed_text, Length: 1000, dtype: object\n"
          ]
        }
      ],
      "source": [
        "print(sample_df['processed_text'])"
      ]
    },
    {
      "cell_type": "markdown",
      "metadata": {
        "id": "mESyUt1Sd7Kx"
      },
      "source": [
        "Exploratory Data Analysis"
      ]
    },
    {
      "cell_type": "code",
      "execution_count": null,
      "metadata": {
        "colab": {
          "base_uri": "https://localhost:8080/"
        },
        "id": "0MLDpigDdA36",
        "outputId": "0365f796-bec2-494c-fecd-fca9d925c1dc"
      },
      "outputs": [
        {
          "output_type": "stream",
          "name": "stdout",
          "text": [
            "[('patient', 12282), ('doctor', 11445), ('yes', 2805), ('okay', 2745), ('see', 2378), ('right', 2372), ('showed', 2068), ('left', 1976), ('history', 1972), ('also', 1908), ('well', 1736), ('examination', 1705), ('symptom', 1665), ('blood', 1604), ('pain', 1603), ('thats', 1565), ('normal', 1530), ('revealed', 1508), ('need', 1484), ('treatment', 1443), ('feeling', 1370), ('test', 1323), ('im', 1316), ('day', 1306), ('good', 1271), ('medical', 1200), ('month', 1123), ('mass', 1090), ('mean', 1083), ('lesion', 1081), ('found', 1065), ('performed', 1059), ('year', 1058), ('thank', 1029), ('family', 1022), ('today', 999), ('ct', 962), ('level', 959), ('presented', 903), ('cell', 866), ('tell', 840), ('tumor', 827), ('correct', 821), ('time', 809), ('eye', 805), ('week', 795), ('hospital', 794), ('abdominal', 791), ('disease', 779), ('scan', 773), ('condition', 770), ('surgery', 767), ('2', 694), ('diagnosis', 685), ('chest', 684), ('lower', 676), ('due', 652), ('started', 652), ('fig', 651), ('past', 649), ('two', 645), ('result', 643), ('understand', 641), ('physical', 630), ('biopsy', 628), ('therapy', 621), ('diagnosed', 621), ('cm', 612), ('however', 588), ('dont', 578), ('ive', 575), ('pressure', 569), ('negative', 558), ('without', 558), ('3', 558), ('one', 555), ('alright', 529), ('count', 529), ('based', 524), ('care', 521), ('imaging', 518), ('followup', 517), ('tomography', 517), ('help', 515), ('finding', 513), ('know', 510), ('severe', 506), ('mri', 506), ('rate', 497), ('admission', 494), ('medication', 492), ('mm', 490), ('take', 489), ('1', 489), ('liver', 484), ('change', 483), ('admitted', 482), ('mgdl', 481), ('bilateral', 479), ('area', 476)]\n"
          ]
        }
      ],
      "source": [
        "from collections import Counter\n",
        "word_counts = Counter(\" \".join(sample_df['processed_text']).split())\n",
        "print(word_counts.most_common(100))"
      ]
    },
    {
      "cell_type": "markdown",
      "metadata": {
        "id": "atMRyfnEFjCd"
      },
      "source": []
    },
    {
      "cell_type": "code",
      "execution_count": null,
      "metadata": {
        "colab": {
          "base_uri": "https://localhost:8080/"
        },
        "id": "WPCEK5jF3csk",
        "outputId": "1769ac74-82d1-466c-8e58-2537bb000073"
      },
      "outputs": [
        {
          "output_type": "stream",
          "name": "stdout",
          "text": [
            "       age                                     processed_text\n",
            "3263  68.0  68yearold female presented gradual onset negat...\n",
            "144    7.0  7yearold girl child nonconsanguineous parent b...\n",
            "1231  15.0  patient presented mostly healthy 15yearold cau...\n",
            "3001  52.0  52yearold female breast cancer underwent left ...\n",
            "1052  54.0  54yearold righthanded unemployed moroccan berb...\n",
            "3076  20.0  20 yearold woman presented 1month history dete...\n",
            "410   51.0  51yearold woman presented fatigue nausea vomit...\n",
            "2575   8.0  8yearold boy chronic encephalopathy secondary ...\n",
            "315   41.0  41yearold ukrainian male body mass index bmi 3...\n",
            "2147  56.0  56yearold woman presented lack defecation unde...\n"
          ]
        }
      ],
      "source": [
        "import re\n",
        "def extract_age(text):\n",
        "  match = re.search(r'(\\d{1,3})\\s*(?:years?|yrs?|y/o|yo|age|aged)', text, re.IGNORECASE)\n",
        "  return int(match.group(1)) if match else None\n",
        "\n",
        "sample_df['age'] = sample_df['processed_text'].apply(extract_age)\n",
        "print(sample_df[['age', 'processed_text']].head(10))\n",
        "\n",
        "\n"
      ]
    },
    {
      "cell_type": "code",
      "execution_count": null,
      "metadata": {
        "colab": {
          "base_uri": "https://localhost:8080/"
        },
        "id": "YVmDyAfsF-En",
        "outputId": "6b32f017-5b0d-4f15-fb2f-828f70f493c1"
      },
      "outputs": [
        {
          "output_type": "stream",
          "name": "stdout",
          "text": [
            "      gender                                     processed_text\n",
            "3263  Female  68yearold female presented gradual onset negat...\n",
            "144   Female  7yearold girl child nonconsanguineous parent b...\n",
            "1231  Female  patient presented mostly healthy 15yearold cau...\n",
            "3001  Female  52yearold female breast cancer underwent left ...\n",
            "1052  Female  54yearold righthanded unemployed moroccan berb...\n",
            "3076  Female  20 yearold woman presented 1month history dete...\n",
            "410   Female  51yearold woman presented fatigue nausea vomit...\n",
            "2575    Male  8yearold boy chronic encephalopathy secondary ...\n",
            "315     Male  41yearold ukrainian male body mass index bmi 3...\n",
            "2147  Female  56yearold woman presented lack defecation unde...\n"
          ]
        }
      ],
      "source": [
        "def extract_gender(text):\n",
        "    text = text.lower()\n",
        "    if re.search(r'\\b(male|man|boy|gentleman|he|him)\\b', text):\n",
        "        return 'Male'\n",
        "    elif re.search(r'\\b(female|woman|girl|lady|she|her)\\b', text):\n",
        "        return 'Female'\n",
        "    return 'Unknown'\n",
        "\n",
        "sample_df['gender'] = sample_df['processed_text'].apply(extract_gender)\n",
        "print(sample_df[['gender', 'processed_text']].head(10))\n"
      ]
    },
    {
      "cell_type": "code",
      "execution_count": null,
      "metadata": {
        "colab": {
          "base_uri": "https://localhost:8080/"
        },
        "id": "d9IUmIeeIhjb",
        "outputId": "69fb1bba-0ae7-4e27-abc0-217a4dfe1c07"
      },
      "outputs": [
        {
          "output_type": "stream",
          "name": "stdout",
          "text": [
            "3263    68yearold female presented gradual onset negat...\n",
            "144     7yearold girl child nonconsanguineous parent b...\n",
            "1231    patient presented mostly healthy 15yearold cau...\n",
            "3001    52yearold female breast cancer underwent left ...\n",
            "1052    54yearold righthanded unemployed moroccan berb...\n",
            "                              ...                        \n",
            "464     71yearold woman history right hip intracapsula...\n",
            "1956    45yearold japanese woman swelling bone exposur...\n",
            "1061    55yearold caucasian male past medical history ...\n",
            "2720    57yearold japanese man referred hospital incre...\n",
            "2881    51yearold woman gravida 3 admitted hospital du...\n",
            "Name: processed_text, Length: 1000, dtype: object 3263    [respiratory, infection, diagnosis, biopsy, re...\n",
            "144     [respiratory, ultrasound, respiratory, ultraso...\n",
            "1231                      [diagnosis, diagnosis, therapy]\n",
            "3001    [cancer, cancer, chemotherapy, ct scan, ct sca...\n",
            "1052    [diabetes, diagnosis, diagnosis, diagnosis, bi...\n",
            "                              ...                        \n",
            "464     [hypertension, cancer, surgery, treatment, reh...\n",
            "1956    [biopsy, diagnosis, biopsy, biopsy, treatment,...\n",
            "1061    [nausea, vomiting, weight loss, biopsy, biopsy...\n",
            "2720       [ultrasound, treatment, ultrasound, treatment]\n",
            "2881                             [ultrasound, ultrasound]\n",
            "Name: extracted_medical_terms, Length: 1000, dtype: object\n"
          ]
        }
      ],
      "source": [
        "import re\n",
        "import pandas as pd\n",
        "\n",
        "\n",
        "# Define a regex pattern for common medical terms (expand this list)\n",
        "medical_terms = [\n",
        "    # Common diseases\n",
        "    \"diabetes\", \"hypertension\", \"stroke\", \"cancer\", \"asthma\", \"tuberculosis\",\n",
        "    \"heart attack\", \"lung infection\", \"pneumonia\", \"arthritis\", \"osteoporosis\",\n",
        "    \"kidney disease\", \"liver failure\", \"migraine\", \"epilepsy\", \"Alzheimer\", \"Parkinson\",\n",
        "\n",
        "    # Symptoms\n",
        "    \"fever\", \"cough\", \"sore throat\", \"chest pain\", \"shortness of breath\",\n",
        "    \"dizziness\", \"fatigue\", \"nausea\", \"vomiting\", \"headache\", \"muscle pain\",\n",
        "    \"skin rash\", \"irregular heartbeat\", \"vision loss\", \"weight loss\", \"obesity\",\n",
        "\n",
        "    # Treatments\n",
        "    \"aspirin\", \"insulin\", \"inhaler\", \"antibiotics\", \"chemotherapy\", \"radiation therapy\",\n",
        "    \"physical therapy\", \"painkillers\", \"antidepressants\", \"antihistamines\", \"surgery\",\n",
        "    \"dialysis\", \"vaccine\", \"blood transfusion\",\n",
        "\n",
        "    # Medical tests\n",
        "    \"MRI scan\", \"CT scan\", \"X-ray\", \"ECG\", \"blood test\", \"urine test\", \"biopsy\",\n",
        "    \"endoscopy\", \"ultrasound\", \"PET scan\", \"colonoscopy\",\n",
        "\n",
        "    \"asthma\", \"bronchitis\", \"COPD\", \"emphysema\", \"pneumonia\",\n",
        "\n",
        "    \"lung infection\", \"pulmonary fibrosis\", \"cystic fibrosis\", \"tuberculosis\", \"lung cancer\",\n",
        "    \"pulmonary embolism\", \"ARDS\", \"interstitial lung disease\", \"sarcoidosis\",\n",
        "    \"pleurisy\", \"pulmonary hypertension\", \"pneumothorax\", \"dyspnea\", \"wheezing\",\n",
        "    \"chronic cough\", \"respiratory failure\", \"sleep apnea\", \"obstructive sleep apnea\",\n",
        "    \"central sleep apnea\", \"hyperventilation\", \"hypoxia\", \"asphyxia\",\n",
        "    \"acute bronchitis\", \"chronic bronchitis\", \"RSV\", \"influenza\", \"Legionnaires' disease\",\n",
        "    \"Hantavirus pulmonary syndrome\", \"COVID-19\", \"SARS\", \"MERS\"\n",
        "\n",
        "    \"ARDS\",\n",
        "\"COVID-19\",\n",
        "\"Breathing exercises\",\n",
        "\"Clinical notes\",\n",
        "\"Cough\",\n",
        "\"Deep breath\",\n",
        "\"Deoxygenation\",\n",
        "\"Diagnosis\",\n",
        "\"Dyspnea\",\n",
        "\"Infection\",\n",
        "\"Lungs\",\n",
        "\"Oxygen desaturation\",\n",
        "\"Oxygen saturation\",\n",
        "\"Physical therapy\",\n",
        "\"Prone position\",\n",
        "\"Pulmonary\",\n",
        "\"Rehabilitation\",\n",
        "\"Respiratory\",\n",
        "\"Respiratory failure\",\n",
        "\"Symptoms\",\n",
        "\"Therapy\",\n",
        "\"Treatment\",\n",
        "\"Ventilation\",\n",
        "]\n",
        "\n",
        "# Create a regex pattern\n",
        "medical_pattern = r\"\\b(\" + \"|\".join(medical_terms) + r\")\\b\"\n",
        "\n",
        "# Function to extract medical terms using regex\n",
        "def extract_medical_terms(text):\n",
        "    return re.findall(medical_pattern, text, re.IGNORECASE)\n",
        "\n",
        "# Apply regex extraction to DataFrame\n",
        "sample_df['extracted_medical_terms'] = sample_df['processed_text'].apply(extract_medical_terms)\n",
        "\n",
        "# Print extracted terms\n",
        "print(sample_df['processed_text'], sample_df['extracted_medical_terms'])\n"
      ]
    },
    {
      "cell_type": "code",
      "execution_count": null,
      "metadata": {
        "colab": {
          "base_uri": "https://localhost:8080/"
        },
        "id": "MYEX4uDnGk7C",
        "outputId": "fab2830b-af1c-4d51-eea4-0cf2814eba36"
      },
      "outputs": [
        {
          "output_type": "stream",
          "name": "stdout",
          "text": [
            "                                         processed_text   age  gender  \\\n",
            "3263  68yearold female presented gradual onset negat...  68.0  Female   \n",
            "144   7yearold girl child nonconsanguineous parent b...   7.0  Female   \n",
            "1231  patient presented mostly healthy 15yearold cau...  15.0  Female   \n",
            "3001  52yearold female breast cancer underwent left ...  52.0  Female   \n",
            "1052  54yearold righthanded unemployed moroccan berb...  54.0  Female   \n",
            "...                                                 ...   ...     ...   \n",
            "464   71yearold woman history right hip intracapsula...  71.0  Female   \n",
            "1956  45yearold japanese woman swelling bone exposur...  45.0  Female   \n",
            "1061  55yearold caucasian male past medical history ...  55.0    Male   \n",
            "2720  57yearold japanese man referred hospital incre...  57.0    Male   \n",
            "2881  51yearold woman gravida 3 admitted hospital du...  51.0  Female   \n",
            "\n",
            "                                extracted_medical_terms  \n",
            "3263  [respiratory, infection, diagnosis, biopsy, re...  \n",
            "144   [respiratory, ultrasound, respiratory, ultraso...  \n",
            "1231                    [diagnosis, diagnosis, therapy]  \n",
            "3001  [cancer, cancer, chemotherapy, ct scan, ct sca...  \n",
            "1052  [diabetes, diagnosis, diagnosis, diagnosis, bi...  \n",
            "...                                                 ...  \n",
            "464   [hypertension, cancer, surgery, treatment, reh...  \n",
            "1956  [biopsy, diagnosis, biopsy, biopsy, treatment,...  \n",
            "1061  [nausea, vomiting, weight loss, biopsy, biopsy...  \n",
            "2720     [ultrasound, treatment, ultrasound, treatment]  \n",
            "2881                           [ultrasound, ultrasound]  \n",
            "\n",
            "[1000 rows x 4 columns]\n"
          ]
        }
      ],
      "source": [
        "print(sample_df[['processed_text', 'age', 'gender','extracted_medical_terms']])\n",
        "\n"
      ]
    },
    {
      "cell_type": "markdown",
      "metadata": {
        "id": "V0bjC_J7zOcJ"
      },
      "source": []
    },
    {
      "cell_type": "code",
      "execution_count": null,
      "metadata": {
        "colab": {
          "base_uri": "https://localhost:8080/",
          "height": 617
        },
        "id": "n8zdTmwiqaho",
        "outputId": "03f994fa-d9d3-4a58-8dcc-e5d1885c38e9"
      },
      "outputs": [
        {
          "output_type": "execute_result",
          "data": {
            "text/plain": [
              "3263    respiratory infection diagnosis biopsy respira...\n",
              "144         respiratory ultrasound respiratory ultrasound\n",
              "1231                          diagnosis diagnosis therapy\n",
              "3001    cancer cancer chemotherapy ct scan ct scan ct ...\n",
              "1052        diabetes diagnosis diagnosis diagnosis biopsy\n",
              "3076    headache vomiting fever infection surgery bloo...\n",
              "410     fatigue nausea vomiting therapy fatigue nausea...\n",
              "2575    epilepsy therapy skin rash fever respiratory f...\n",
              "315     headache obesity treatment headache treatment ...\n",
              "2147    colonoscopy cancer colonoscopy diagnosis surge...\n",
              "1962    cancer ct scan biopsy chemotherapy treatment c...\n",
              "1788    nausea vomiting treatment diagnosis ultrasound...\n",
              "3179    fever therapy therapy infection pneumonia ther...\n",
              "2372                          surgery treatment treatment\n",
              "1514    cancer biopsy diagnosis diagnosis diagnosis ca...\n",
              "2349    cancer biopsy treatment therapy therapy treatm...\n",
              "2333    chemotherapy cancer chemotherapy treatment dia...\n",
              "Name: extracted_medical_terms_str, dtype: object"
            ],
            "text/html": [
              "<div>\n",
              "<style scoped>\n",
              "    .dataframe tbody tr th:only-of-type {\n",
              "        vertical-align: middle;\n",
              "    }\n",
              "\n",
              "    .dataframe tbody tr th {\n",
              "        vertical-align: top;\n",
              "    }\n",
              "\n",
              "    .dataframe thead th {\n",
              "        text-align: right;\n",
              "    }\n",
              "</style>\n",
              "<table border=\"1\" class=\"dataframe\">\n",
              "  <thead>\n",
              "    <tr style=\"text-align: right;\">\n",
              "      <th></th>\n",
              "      <th>extracted_medical_terms_str</th>\n",
              "    </tr>\n",
              "  </thead>\n",
              "  <tbody>\n",
              "    <tr>\n",
              "      <th>3263</th>\n",
              "      <td>respiratory infection diagnosis biopsy respira...</td>\n",
              "    </tr>\n",
              "    <tr>\n",
              "      <th>144</th>\n",
              "      <td>respiratory ultrasound respiratory ultrasound</td>\n",
              "    </tr>\n",
              "    <tr>\n",
              "      <th>1231</th>\n",
              "      <td>diagnosis diagnosis therapy</td>\n",
              "    </tr>\n",
              "    <tr>\n",
              "      <th>3001</th>\n",
              "      <td>cancer cancer chemotherapy ct scan ct scan ct ...</td>\n",
              "    </tr>\n",
              "    <tr>\n",
              "      <th>1052</th>\n",
              "      <td>diabetes diagnosis diagnosis diagnosis biopsy</td>\n",
              "    </tr>\n",
              "    <tr>\n",
              "      <th>3076</th>\n",
              "      <td>headache vomiting fever infection surgery bloo...</td>\n",
              "    </tr>\n",
              "    <tr>\n",
              "      <th>410</th>\n",
              "      <td>fatigue nausea vomiting therapy fatigue nausea...</td>\n",
              "    </tr>\n",
              "    <tr>\n",
              "      <th>2575</th>\n",
              "      <td>epilepsy therapy skin rash fever respiratory f...</td>\n",
              "    </tr>\n",
              "    <tr>\n",
              "      <th>315</th>\n",
              "      <td>headache obesity treatment headache treatment ...</td>\n",
              "    </tr>\n",
              "    <tr>\n",
              "      <th>2147</th>\n",
              "      <td>colonoscopy cancer colonoscopy diagnosis surge...</td>\n",
              "    </tr>\n",
              "    <tr>\n",
              "      <th>1962</th>\n",
              "      <td>cancer ct scan biopsy chemotherapy treatment c...</td>\n",
              "    </tr>\n",
              "    <tr>\n",
              "      <th>1788</th>\n",
              "      <td>nausea vomiting treatment diagnosis ultrasound...</td>\n",
              "    </tr>\n",
              "    <tr>\n",
              "      <th>3179</th>\n",
              "      <td>fever therapy therapy infection pneumonia ther...</td>\n",
              "    </tr>\n",
              "    <tr>\n",
              "      <th>2372</th>\n",
              "      <td>surgery treatment treatment</td>\n",
              "    </tr>\n",
              "    <tr>\n",
              "      <th>1514</th>\n",
              "      <td>cancer biopsy diagnosis diagnosis diagnosis ca...</td>\n",
              "    </tr>\n",
              "    <tr>\n",
              "      <th>2349</th>\n",
              "      <td>cancer biopsy treatment therapy therapy treatm...</td>\n",
              "    </tr>\n",
              "    <tr>\n",
              "      <th>2333</th>\n",
              "      <td>chemotherapy cancer chemotherapy treatment dia...</td>\n",
              "    </tr>\n",
              "  </tbody>\n",
              "</table>\n",
              "</div><br><label><b>dtype:</b> object</label>"
            ]
          },
          "metadata": {},
          "execution_count": 14
        }
      ],
      "source": [
        "sample_df['extracted_medical_terms_str'] = sample_df['extracted_medical_terms'].apply(' '.join)\n",
        "(sample_df['extracted_medical_terms_str'].head(17))"
      ]
    },
    {
      "cell_type": "code",
      "execution_count": null,
      "metadata": {
        "colab": {
          "base_uri": "https://localhost:8080/"
        },
        "id": "l3Y5dXYw3QLq",
        "outputId": "837cda0f-b783-48ee-b796-c4801f4ce868"
      },
      "outputs": [
        {
          "output_type": "stream",
          "name": "stdout",
          "text": [
            "\n",
            "DISEASES (37 terms):\n",
            "diabetes, hypertension, stroke, cancer, asthma, tuberculosis, heart attack, lung infection, pneumonia, arthritis, osteoporosis, kidney disease, liver failure, migraine, epilepsy, Alzheimer, Parkinson, bronchitis, COPD, emphysema, pulmonary fibrosis, cystic fibrosis, pulmonary embolism, ARDS, interstitial lung disease, sarcoidosis, pleurisy, pulmonary hypertension, pneumothorax, respiratory failure, RSV, influenza, Legionnaires' disease, Hantavirus pulmonary syndrome, COVID-19, SARS, MERS\n",
            "\n",
            "SYMPTOMS (28 terms):\n",
            "fever, cough, sore throat, chest pain, shortness of breath, dizziness, fatigue, nausea, vomiting, headache, muscle pain, skin rash, irregular heartbeat, vision loss, weight loss, obesity, dyspnea, wheezing, chronic cough, sleep apnea, obstructive sleep apnea, central sleep apnea, hyperventilation, hypoxia, asphyxia, oxygen desaturation, oxygen saturation, deoxygenation\n",
            "\n",
            "TREATMENTS (20 terms):\n",
            "aspirin, insulin, inhaler, antibiotics, chemotherapy, radiation therapy, physical therapy, painkillers, antidepressants, antihistamines, surgery, dialysis, vaccine, blood transfusion, breathing exercises, rehabilitation, therapy, ventilation, prone position, treatment\n",
            "\n",
            "MEDICAL_TESTS (11 terms):\n",
            "MRI scan, CT scan, X-ray, ECG, blood test, urine test, biopsy, endoscopy, ultrasound, PET scan, colonoscopy\n",
            "\n",
            "GENERAL_MEDICAL_TERMS (7 terms):\n",
            "infection, lungs, pulmonary, respiratory, clinical notes, diagnosis, symptoms\n"
          ]
        }
      ],
      "source": [
        "categories = {\n",
        "    \"diseases\": [\n",
        "        \"diabetes\", \"hypertension\", \"stroke\", \"cancer\", \"asthma\", \"tuberculosis\",\n",
        "        \"heart attack\", \"lung infection\", \"pneumonia\", \"arthritis\", \"osteoporosis\",\n",
        "        \"kidney disease\", \"liver failure\", \"migraine\", \"epilepsy\", \"Alzheimer\", \"Parkinson\",\n",
        "        \"bronchitis\", \"COPD\", \"emphysema\", \"pulmonary fibrosis\", \"cystic fibrosis\",\n",
        "        \"pulmonary embolism\", \"ARDS\", \"interstitial lung disease\", \"sarcoidosis\",\n",
        "        \"pleurisy\", \"pulmonary hypertension\", \"pneumothorax\", \"respiratory failure\",\n",
        "        \"RSV\", \"influenza\", \"Legionnaires' disease\", \"Hantavirus pulmonary syndrome\",\n",
        "        \"COVID-19\", \"SARS\", \"MERS\"\n",
        "    ],\n",
        "\n",
        "    \"symptoms\": [\n",
        "        \"fever\", \"cough\", \"sore throat\", \"chest pain\", \"shortness of breath\",\n",
        "        \"dizziness\", \"fatigue\", \"nausea\", \"vomiting\", \"headache\", \"muscle pain\",\n",
        "        \"skin rash\", \"irregular heartbeat\", \"vision loss\", \"weight loss\", \"obesity\",\n",
        "        \"dyspnea\", \"wheezing\", \"chronic cough\", \"sleep apnea\", \"obstructive sleep apnea\",\n",
        "        \"central sleep apnea\", \"hyperventilation\", \"hypoxia\", \"asphyxia\",\n",
        "        \"oxygen desaturation\", \"oxygen saturation\", \"deoxygenation\"\n",
        "    ],\n",
        "\n",
        "    \"treatments\": [\n",
        "        \"aspirin\", \"insulin\", \"inhaler\", \"antibiotics\", \"chemotherapy\", \"radiation therapy\",\n",
        "        \"physical therapy\", \"painkillers\", \"antidepressants\", \"antihistamines\", \"surgery\",\n",
        "        \"dialysis\", \"vaccine\", \"blood transfusion\", \"breathing exercises\", \"rehabilitation\",\n",
        "        \"therapy\", \"ventilation\", \"prone position\", \"treatment\"\n",
        "    ],\n",
        "\n",
        "    \"medical_tests\": [\n",
        "        \"MRI scan\", \"CT scan\", \"X-ray\", \"ECG\", \"blood test\", \"urine test\", \"biopsy\",\n",
        "        \"endoscopy\", \"ultrasound\", \"PET scan\", \"colonoscopy\"\n",
        "    ],\n",
        "\n",
        "    \"general_medical_terms\": [\n",
        "        \"infection\", \"lungs\", \"pulmonary\", \"respiratory\", \"clinical notes\", \"diagnosis\",\n",
        "        \"symptoms\"\n",
        "    ]\n",
        "}\n",
        "\n",
        "# Print categorized terms\n",
        "for category, terms in categories.items():\n",
        "    print(f\"\\n{category.upper()} ({len(terms)} terms):\")\n",
        "    print(\", \".join(terms))\n",
        "\n",
        "\n"
      ]
    },
    {
      "cell_type": "code",
      "execution_count": null,
      "metadata": {
        "cellView": "code",
        "colab": {
          "base_uri": "https://localhost:8080/"
        },
        "id": "7OUDjuwzoX7R",
        "outputId": "5d7dcfa2-44d5-4a02-848d-6ebe256c13fb"
      },
      "outputs": [
        {
          "output_type": "stream",
          "name": "stdout",
          "text": [
            "                               classified_medical_terms\n",
            "3263  {'diseases': [], 'symptoms': [], 'treatments':...\n",
            "144   {'diseases': [], 'symptoms': [], 'treatments':...\n",
            "1231  {'diseases': [], 'symptoms': [], 'treatments':...\n",
            "3001  {'diseases': ['cancer', 'cancer', 'cancer', 'c...\n",
            "1052  {'diseases': ['diabetes'], 'symptoms': [], 'tr...\n",
            "3076  {'diseases': [], 'symptoms': ['headache', 'vom...\n",
            "410   {'diseases': [], 'symptoms': ['fatigue', 'naus...\n",
            "2575  {'diseases': ['epilepsy', 'respiratory failure...\n",
            "315   {'diseases': [], 'symptoms': ['headache', 'obe...\n",
            "2147  {'diseases': ['cancer', 'cancer'], 'symptoms':...\n"
          ]
        }
      ],
      "source": [
        "# Create regex patterns for each category\n",
        "patterns = {category: r\"\\b(\" + \"|\".join(terms) + r\")\\b\" for category, terms in categories.items()}\n",
        "\n",
        "\n",
        "def classify_medical_terms(text):\n",
        "    extracted = {\"diseases\": [], \"symptoms\": [], \"treatments\": [], \"medical_tests\": []}\n",
        "    for category, pattern in patterns.items():\n",
        "        extracted[category] = re.findall(pattern, text, re.IGNORECASE)\n",
        "    return extracted\n",
        "\n",
        "\n",
        "# Apply classification function\n",
        "sample_df['classified_medical_terms'] = sample_df['extracted_medical_terms_str'].apply(classify_medical_terms)\n",
        "\n",
        "# Print results\n",
        "print(sample_df[['classified_medical_terms']].head(10))\n"
      ]
    },
    {
      "cell_type": "code",
      "execution_count": null,
      "metadata": {
        "colab": {
          "base_uri": "https://localhost:8080/",
          "height": 1000
        },
        "id": "bHxT_eB-cLts",
        "outputId": "65b57898-76cb-4c7e-d517-bbab887cb5a8"
      },
      "outputs": [
        {
          "output_type": "stream",
          "name": "stdout",
          "text": [
            "Accuracy: 0.42566510172143973\n",
            "                        precision    recall  f1-score   support\n",
            "\n",
            "                  ards       0.63      1.00      0.78        31\n",
            "             arthritis       0.50      0.03      0.06        31\n",
            "                asthma       0.12      0.05      0.07        21\n",
            "            bronchitis       0.82      0.78      0.80        23\n",
            "                cancer       0.00      0.00      0.00        28\n",
            "                  copd       0.59      1.00      0.75        19\n",
            "              diabetes       1.00      0.04      0.07        28\n",
            "             emphysema       0.82      0.56      0.67        25\n",
            "              epilepsy       0.69      0.47      0.56        19\n",
            "          heart attack       0.56      1.00      0.71        20\n",
            "          hypertension       0.00      0.00      0.00        16\n",
            "             influenza       0.22      0.57      0.32        21\n",
            "        kidney disease       0.24      0.21      0.22        19\n",
            "         liver failure       0.85      1.00      0.92        22\n",
            "              migraine       0.93      1.00      0.96        26\n",
            "          osteoporosis       0.00      0.00      0.00        16\n",
            "             parkinson       0.80      0.55      0.65        22\n",
            "              pleurisy       0.67      0.42      0.52        19\n",
            "             pneumonia       0.44      0.25      0.32        16\n",
            "          pneumothorax       0.42      0.31      0.36        26\n",
            "    pulmonary embolism       1.00      0.33      0.50        21\n",
            "    pulmonary fibrosis       0.07      1.00      0.14        15\n",
            "pulmonary hypertension       0.33      0.08      0.13        25\n",
            "   respiratory failure       1.00      0.23      0.37        22\n",
            "                   rsv       0.75      0.95      0.84        22\n",
            "           sarcoidosis       0.40      0.14      0.21        28\n",
            "                stroke       0.36      0.11      0.17        35\n",
            "          tuberculosis       0.80      0.17      0.29        23\n",
            "\n",
            "              accuracy                           0.43       639\n",
            "             macro avg       0.54      0.44      0.41       639\n",
            "          weighted avg       0.55      0.43      0.41       639\n",
            "\n",
            "Predicted Disease: influenza\n"
          ]
        },
        {
          "output_type": "stream",
          "name": "stderr",
          "text": [
            "/usr/local/lib/python3.11/dist-packages/sklearn/metrics/_classification.py:1565: UndefinedMetricWarning: Precision is ill-defined and being set to 0.0 in labels with no predicted samples. Use `zero_division` parameter to control this behavior.\n",
            "  _warn_prf(average, modifier, f\"{metric.capitalize()} is\", len(result))\n",
            "/usr/local/lib/python3.11/dist-packages/sklearn/metrics/_classification.py:1565: UndefinedMetricWarning: Precision is ill-defined and being set to 0.0 in labels with no predicted samples. Use `zero_division` parameter to control this behavior.\n",
            "  _warn_prf(average, modifier, f\"{metric.capitalize()} is\", len(result))\n",
            "/usr/local/lib/python3.11/dist-packages/sklearn/metrics/_classification.py:1565: UndefinedMetricWarning: Precision is ill-defined and being set to 0.0 in labels with no predicted samples. Use `zero_division` parameter to control this behavior.\n",
            "  _warn_prf(average, modifier, f\"{metric.capitalize()} is\", len(result))\n",
            "<ipython-input-17-78cc50b17296>:65: FutureWarning: \n",
            "\n",
            "Passing `palette` without assigning `hue` is deprecated and will be removed in v0.14.0. Assign the `y` variable to `hue` and set `legend=False` for the same effect.\n",
            "\n",
            "  sns.countplot(y=y_resampled, order=y_resampled.value_counts().index, palette='Set2')\n"
          ]
        },
        {
          "output_type": "display_data",
          "data": {
            "text/plain": [
              "<Figure size 1200x600 with 1 Axes>"
            ],
            "image/png": "[encoded data removed]"
          },
          "metadata": {}
        }
      ],
      "source": [
        "import pandas as pd\n",
        "import matplotlib.pyplot as plt\n",
        "import seaborn as sns\n",
        "from sklearn.feature_extraction.text import TfidfVectorizer\n",
        "from sklearn.preprocessing import MultiLabelBinarizer\n",
        "from sklearn.model_selection import train_test_split\n",
        "from sklearn.naive_bayes import MultinomialNB\n",
        "from sklearn.metrics import accuracy_score, classification_report\n",
        "from imblearn.over_sampling import RandomOverSampler\n",
        "\n",
        "# Ensure 'sample_df' exists\n",
        "if 'sample_df' not in locals():\n",
        "    raise ValueError(\"Dataset 'sample_df' is not defined!\")\n",
        "\n",
        "# Remove 'Unknown' diseases\n",
        "filtered_df = sample_df[sample_df['classified_medical_terms'].apply(lambda x: x['diseases'][0] if x['diseases'] else None).notna()]\n",
        "\n",
        "# Randomly sample up to 1000 records (optional)\n",
        "sampled_df = filtered_df.sample(n=1000, random_state=42) if len(filtered_df) > 1000 else filtered_df\n",
        "\n",
        "# Prepare Text Features (TF-IDF)\n",
        "vectorizer = TfidfVectorizer(\n",
        "    max_df=0.9,\n",
        "    min_df=5,\n",
        "    ngram_range=(1,2),\n",
        "    stop_words='english'\n",
        ")\n",
        "X = vectorizer.fit_transform(sampled_df['classified_medical_terms'].apply(lambda x: ' '.join(x['symptoms'])))\n",
        "y = sampled_df['classified_medical_terms'].apply(lambda x: x['diseases'][0])\n",
        "\n",
        "# Apply Random Over-Sampling to Balance Classes\n",
        "ros = RandomOverSampler(random_state=42)\n",
        "X_resampled, y_resampled = ros.fit_resample(X, y)\n",
        "\n",
        "# Train/Test Split\n",
        "X_train, X_test, y_train, y_test = train_test_split(X_resampled, y_resampled, test_size=0.2, random_state=42)\n",
        "\n",
        "# Model Training\n",
        "model = MultinomialNB()\n",
        "model.fit(X_train, y_train)\n",
        "\n",
        "# Predictions\n",
        "y_pred = model.predict(X_test)\n",
        "print(\"Accuracy:\", accuracy_score(y_test, y_pred))\n",
        "print(classification_report(y_test, y_pred))\n",
        "\n",
        "# Function for Predicting Diseases\n",
        "def predict_disease(symptoms):\n",
        "    cleaned_symptoms = \" \".join(symptoms.split(\", \"))  # Simple text cleaning\n",
        "    vectorized_input = vectorizer.transform([cleaned_symptoms])\n",
        "    prediction = model.predict(vectorized_input)\n",
        "    return prediction[0]\n",
        "\n",
        "# Example Prediction\n",
        "new_symptoms = \"fever, cold, fatigue\"\n",
        "predicted_disease = predict_disease(new_symptoms)\n",
        "print(\"Predicted Disease:\", predicted_disease)\n",
        "\n",
        "# Symptom Binarization for Visualization\n",
        "mlb_symptoms = MultiLabelBinarizer()\n",
        "X_binarized = mlb_symptoms.fit_transform(sampled_df['classified_medical_terms'].apply(lambda x: x['symptoms']))\n",
        "\n",
        "# Visualization: Disease Counts After Oversampling\n",
        "plt.figure(figsize=(12, 6))\n",
        "sns.countplot(y=y_resampled, order=y_resampled.value_counts().index, palette='Set2')\n",
        "plt.title('Disease Distribution in Oversampled Dataset')\n",
        "plt.xlabel('Disease')\n",
        "plt.ylabel('Count')\n",
        "plt.xticks(rotation=45, ha='right')\n",
        "plt.tight_layout()\n",
        "plt.show()\n"
      ]
    },
    {
      "cell_type": "code",
      "execution_count": null,
      "metadata": {
        "colab": {
          "base_uri": "https://localhost:8080/"
        },
        "id": "1wMR1JvR1SXP",
        "outputId": "a6b995db-58e0-4a2b-caa1-313555bc9812"
      },
      "outputs": [
        {
          "output_type": "execute_result",
          "data": {
            "text/plain": [
              "['tfidf_vectorizer.pkl']"
            ]
          },
          "metadata": {},
          "execution_count": 18
        }
      ],
      "source": [
        "import joblib\n",
        "\n",
        "# Save the trained model and vectorizer\n",
        "joblib.dump(model, \"predict_disease.pkl\")\n",
        "joblib.dump(vectorizer, \"tfidf_vectorizer.pkl\")\n"
      ]
    },
    {
      "cell_type": "markdown",
      "metadata": {
        "id": "Wv5lVy3G6SMH"
      },
      "source": []
    },
    {
      "cell_type": "markdown",
      "metadata": {
        "id": "4y0lb5qgFmGp"
      },
      "source": [
        "age:**bold text**"
      ]
    },
    {
      "cell_type": "code",
      "execution_count": null,
      "metadata": {
        "colab": {
          "base_uri": "https://localhost:8080/"
        },
        "collapsed": true,
        "id": "ap_qBnFWDMMe",
        "outputId": "1e4cec19-8539-439c-c218-619b227bd377"
      },
      "outputs": [
        {
          "output_type": "stream",
          "name": "stdout",
          "text": [
            "                                         processed_text   age  \\\n",
            "3263  68yearold female presented gradual onset negat...  68.0   \n",
            "144   7yearold girl child nonconsanguineous parent b...   7.0   \n",
            "1231  patient presented mostly healthy 15yearold cau...  15.0   \n",
            "3001  52yearold female breast cancer underwent left ...  52.0   \n",
            "1052  54yearold righthanded unemployed moroccan berb...  54.0   \n",
            "3076  20 yearold woman presented 1month history dete...  20.0   \n",
            "410   51yearold woman presented fatigue nausea vomit...  51.0   \n",
            "2575  8yearold boy chronic encephalopathy secondary ...   8.0   \n",
            "315   41yearold ukrainian male body mass index bmi 3...  41.0   \n",
            "2147  56yearold woman presented lack defecation unde...  56.0   \n",
            "1962  71yearold japanese woman admitted toranomon ho...  71.0   \n",
            "1788  index patient 27yearold chinese han female non...  27.0   \n",
            "3179  13yearold child learning disability referred o...  13.0   \n",
            "2372  57yearold japanese woman presented 15year hist...  57.0   \n",
            "1514  45yearold woman presented hospital multiple lu...  45.0   \n",
            "2349  57yearold male initially diagnosed locally adv...  57.0   \n",
            "2333  60yearold thai woman presented 4month history ...  60.0   \n",
            "3213  5yearold girl presented gp history erythematou...   5.0   \n",
            "1456  42yearold male patient referred endodontic spe...  42.0   \n",
            "1642  previously healthy 2 half year old girl admitt...   NaN   \n",
            "1159  patient 65yearold male presented twoyear histo...  65.0   \n",
            "2321  10yearold white girl presented emergency room ...  10.0   \n",
            "331   45yearold transgender male history guillain ba...  45.0   \n",
            "461   23yearold woman presented left lower quadrant ...  23.0   \n",
            "1151  50yearold male fell bitten crotch horse patien...  50.0   \n",
            "\n",
            "                               classified_medical_terms  high_risk  \n",
            "3263  {'diseases': [], 'symptoms': [], 'treatments':...          1  \n",
            "144   {'diseases': [], 'symptoms': [], 'treatments':...          0  \n",
            "1231  {'diseases': [], 'symptoms': [], 'treatments':...          0  \n",
            "3001  {'diseases': ['cancer', 'cancer', 'cancer', 'c...          0  \n",
            "1052  {'diseases': ['diabetes'], 'symptoms': [], 'tr...          0  \n",
            "3076  {'diseases': [], 'symptoms': ['headache', 'vom...          1  \n",
            "410   {'diseases': [], 'symptoms': ['fatigue', 'naus...          1  \n",
            "2575  {'diseases': ['epilepsy', 'respiratory failure...          0  \n",
            "315   {'diseases': [], 'symptoms': ['headache', 'obe...          1  \n",
            "2147  {'diseases': ['cancer', 'cancer'], 'symptoms':...          0  \n",
            "1962  {'diseases': ['cancer', 'cancer'], 'symptoms':...          1  \n",
            "1788  {'diseases': [], 'symptoms': ['nausea', 'vomit...          1  \n",
            "3179  {'diseases': ['pneumonia', 'pneumonia'], 'symp...          0  \n",
            "2372  {'diseases': [], 'symptoms': [], 'treatments':...          0  \n",
            "1514  {'diseases': ['cancer', 'cancer'], 'symptoms':...          0  \n",
            "2349  {'diseases': ['cancer', 'cancer'], 'symptoms':...          0  \n",
            "2333  {'diseases': ['cancer'], 'symptoms': [], 'trea...          0  \n",
            "3213  {'diseases': [], 'symptoms': [], 'treatments':...          0  \n",
            "1456  {'diseases': [], 'symptoms': [], 'treatments':...          0  \n",
            "1642  {'diseases': [], 'symptoms': ['fever', 'vomiti...          0  \n",
            "1159  {'diseases': ['cancer', 'cancer'], 'symptoms':...          1  \n",
            "2321  {'diseases': ['cancer', 'cancer'], 'symptoms':...          1  \n",
            "331   {'diseases': [], 'symptoms': [], 'treatments':...          0  \n",
            "461   {'diseases': [], 'symptoms': [], 'treatments':...          0  \n",
            "1151  {'diseases': [], 'symptoms': [], 'treatments':...          0  \n"
          ]
        }
      ],
      "source": [
        "def determine_high_risk(row):\n",
        "\n",
        "    severe_symptoms = [\n",
        "        \"shortness of breath\", \"chest pain\", \"irregular heartbeat\",\n",
        "        \"Loss of consciousness\", \"Seizures\", \"Sudden confusion\",\n",
        "        \"Severe headache\", \"High fever\", \"Uncontrolled bleeding\",\n",
        "        \"Severe allergic reaction\", \"Persistent vomiting\", \"Severe abdominal pain\",\n",
        "        \"Weakness or numbness\", \"Rapid or irregular heartbeat\", \"Severe burns\",\n",
        "        \"Inability to urinate\", \"Bluish lips or nails\", \"Severe back pain\",\n",
        "        \"Mental status changes\", \"Persistent dizziness\", \"Extreme fatigue\",\"dyspnea\"\n",
        "        \"wheezing\", \"chronic cough\", \"sleep apnea\", \"obstructive sleep apnea\",\n",
        "        \"central sleep apnea\", \"hyperventilation\", \"hypoxia\", \"asphyxia\",\n",
        "        \"oxygen desaturation\", \"oxygen saturation\", \"deoxygenation\",\n",
        "        \"sore throat\", \"dizziness\", \"fatigue\", \"nausea\", \"vomiting\", \"headache\", \"muscle pain\",\n",
        "        \"skin rash\", \"irregular heartbeat\", \"vision loss\", \"weight loss\", \"obesity\"\n",
        "    ]\n",
        "\n",
        "    # Ensure keys exist before accessing them\n",
        "    symptoms = row.get('classified_medical_terms', {}).get('symptoms', [])\n",
        "    age = row.get('age', None)\n",
        "\n",
        "\n",
        "    # Check if the person has multiple severe symptoms\n",
        "    if sum(symptom in symptoms for symptom in severe_symptoms) >= 2:\n",
        "        return 1\n",
        "\n",
        "    # Check if age is above 65 (elderly risk factor)\n",
        "    if age is not None and age >= 65:\n",
        "        return 1\n",
        "\n",
        "    return 0\n",
        "\n",
        "# Apply function to DataFrame\n",
        "sample_df['high_risk'] = sample_df.apply(determine_high_risk, axis=1)\n",
        "\n",
        "# Print high-risk cases\n",
        "print(sample_df[['processed_text', 'age', 'classified_medical_terms', 'high_risk']].head(25))\n"
      ]
    },
    {
      "cell_type": "code",
      "execution_count": null,
      "metadata": {
        "colab": {
          "base_uri": "https://localhost:8080/"
        },
        "collapsed": true,
        "id": "dkKy9qxyD5zc",
        "outputId": "f7a67b52-bbd5-438f-9b93-97c1bd419e28"
      },
      "outputs": [
        {
          "output_type": "stream",
          "name": "stdout",
          "text": [
            "                                         processed_text   age  \\\n",
            "3263  68yearold female presented gradual onset negat...  68.0   \n",
            "144   7yearold girl child nonconsanguineous parent b...   7.0   \n",
            "1231  patient presented mostly healthy 15yearold cau...  15.0   \n",
            "3001  52yearold female breast cancer underwent left ...  52.0   \n",
            "1052  54yearold righthanded unemployed moroccan berb...  54.0   \n",
            "3076  20 yearold woman presented 1month history dete...  20.0   \n",
            "410   51yearold woman presented fatigue nausea vomit...  51.0   \n",
            "2575  8yearold boy chronic encephalopathy secondary ...   8.0   \n",
            "315   41yearold ukrainian male body mass index bmi 3...  41.0   \n",
            "2147  56yearold woman presented lack defecation unde...  56.0   \n",
            "1962  71yearold japanese woman admitted toranomon ho...  71.0   \n",
            "1788  index patient 27yearold chinese han female non...  27.0   \n",
            "3179  13yearold child learning disability referred o...  13.0   \n",
            "2372  57yearold japanese woman presented 15year hist...  57.0   \n",
            "1514  45yearold woman presented hospital multiple lu...  45.0   \n",
            "2349  57yearold male initially diagnosed locally adv...  57.0   \n",
            "2333  60yearold thai woman presented 4month history ...  60.0   \n",
            "3213  5yearold girl presented gp history erythematou...   5.0   \n",
            "1456  42yearold male patient referred endodontic spe...  42.0   \n",
            "1642  previously healthy 2 half year old girl admitt...   NaN   \n",
            "1159  patient 65yearold male presented twoyear histo...  65.0   \n",
            "2321  10yearold white girl presented emergency room ...  10.0   \n",
            "331   45yearold transgender male history guillain ba...  45.0   \n",
            "461   23yearold woman presented left lower quadrant ...  23.0   \n",
            "1151  50yearold male fell bitten crotch horse patien...  50.0   \n",
            "\n",
            "                                               symptoms  high_risk  \n",
            "3263                                                 []          1  \n",
            "144                                                  []          0  \n",
            "1231                                                 []          0  \n",
            "3001                                                 []          0  \n",
            "1052                                                 []          0  \n",
            "3076  [headache, vomiting, fever, headache, vomiting...          1  \n",
            "410   [fatigue, nausea, vomiting, fatigue, nausea, v...          1  \n",
            "2575                                 [skin rash, fever]          0  \n",
            "315              [headache, obesity, headache, obesity]          1  \n",
            "2147                                                 []          0  \n",
            "1962                                                 []          1  \n",
            "1788                                 [nausea, vomiting]          1  \n",
            "3179                                     [fever, fever]          0  \n",
            "2372                                                 []          0  \n",
            "1514                                                 []          0  \n",
            "2349     [cough, dyspnea, cough, cough, dyspnea, cough]          0  \n",
            "2333                                                 []          0  \n",
            "3213                                                 []          0  \n",
            "1456                                                 []          0  \n",
            "1642          [fever, vomiting, fever, vomiting, fever]          0  \n",
            "1159       [cough, wheezing, cough, wheezing, wheezing]          1  \n",
            "2321  [headache, vomiting, oxygen saturation, headac...          1  \n",
            "331                                                  []          0  \n",
            "461                                                  []          0  \n",
            "1151                                                 []          0  \n"
          ]
        }
      ],
      "source": [
        "# Create a new column called symptoms\n",
        "sample_df['symptoms'] = sample_df['classified_medical_terms'].apply(lambda x: x['symptoms'])\n",
        "print(sample_df[['processed_text', 'age', 'symptoms', 'high_risk']].head(25))"
      ]
    },
    {
      "cell_type": "code",
      "execution_count": null,
      "metadata": {
        "colab": {
          "base_uri": "https://localhost:8080/"
        },
        "id": "VENw5yMCRck0",
        "outputId": "ae04b1b2-5a38-4330-83dd-bd60681984ff"
      },
      "outputs": [
        {
          "output_type": "stream",
          "name": "stdout",
          "text": [
            "Test Accuracy: 0.7900\n",
            "Classification Report:\n",
            "               precision    recall  f1-score   support\n",
            "\n",
            "           0       0.78      0.96      0.86       135\n",
            "           1       0.83      0.45      0.58        65\n",
            "\n",
            "    accuracy                           0.79       200\n",
            "   macro avg       0.81      0.70      0.72       200\n",
            "weighted avg       0.80      0.79      0.77       200\n",
            "\n"
          ]
        }
      ],
      "source": [
        "from sklearn.ensemble import RandomForestClassifier\n",
        "from sklearn.model_selection import train_test_split\n",
        "from sklearn.metrics import accuracy_score, classification_report\n",
        "\n",
        "# Prepare features (X) and target (y)\n",
        "X = mlb_symptoms.fit_transform(sample_df['classified_medical_terms'].apply(lambda x: x['symptoms']))\n",
        "y = sample_df['high_risk']\n",
        "\n",
        "# Train-Test Split\n",
        "X_train, X_test, y_train, y_test = train_test_split(X, y, test_size=0.2, stratify=y, random_state=42)\n",
        "\n",
        "# Train Model\n",
        "rf_model = RandomForestClassifier(n_estimators=100, random_state=42)\n",
        "rf_model.fit(X_train, y_train)\n",
        "\n",
        "# Predict on Test Set\n",
        "y_pred = rf_model.predict(X_test)\n",
        "\n",
        "# Evaluate Model\n",
        "print(f\"Test Accuracy: {accuracy_score(y_test, y_pred):.4f}\")\n",
        "print(\"Classification Report:\\n\", classification_report(y_test, y_pred))\n"
      ]
    },
    {
      "cell_type": "code",
      "execution_count": null,
      "metadata": {
        "colab": {
          "base_uri": "https://localhost:8080/"
        },
        "id": "pOtEd9FdAVoh",
        "outputId": "3bea561a-f140-48e1-8ea4-6f3c485940c3"
      },
      "outputs": [
        {
          "output_type": "stream",
          "name": "stdout",
          "text": [
            "       age                           classified_medical_terms  high_risk\n",
            "3263  68.0  {'diseases': [], 'symptoms': [], 'treatments':...          1\n",
            "144    7.0  {'diseases': [], 'symptoms': [], 'treatments':...          0\n",
            "1231  15.0  {'diseases': [], 'symptoms': [], 'treatments':...          0\n",
            "3001  52.0  {'diseases': ['cancer', 'cancer', 'cancer', 'c...          0\n",
            "1052  54.0  {'diseases': ['diabetes'], 'symptoms': [], 'tr...          0\n",
            "...    ...                                                ...        ...\n",
            "464   71.0  {'diseases': ['hypertension', 'cancer'], 'symp...          1\n",
            "1956  45.0  {'diseases': [], 'symptoms': [], 'treatments':...          0\n",
            "1061  55.0  {'diseases': [], 'symptoms': ['nausea', 'vomit...          1\n",
            "2720  57.0  {'diseases': [], 'symptoms': [], 'treatments':...          0\n",
            "2881  51.0  {'diseases': [], 'symptoms': [], 'treatments':...          0\n",
            "\n",
            "[1000 rows x 3 columns]\n"
          ]
        }
      ],
      "source": [
        "# Save the model and the MultiLabelBinarizer\n",
        "joblib.dump(rf_model, 'determine_high_risk.pkl')\n",
        "joblib.dump(mlb_symptoms, 'mlb_symptoms.pkl')\n",
        "\n",
        "# Print sample high-risk predictions\n",
        "print(sample_df[['age', 'classified_medical_terms', 'high_risk']])"
      ]
    },
    {
      "cell_type": "code",
      "execution_count": null,
      "metadata": {
        "id": "PPofxBPK--uA"
      },
      "outputs": [],
      "source": []
    },
    {
      "cell_type": "code",
      "execution_count": null,
      "metadata": {
        "colab": {
          "base_uri": "https://localhost:8080/"
        },
        "id": "-VIrkWvNTZxo",
        "outputId": "a69139f7-024d-4a18-dff0-8458d6ff5f6d"
      },
      "outputs": [
        {
          "name": "stdout",
          "output_type": "stream",
          "text": [
            "high_risk\n",
            "0    677\n",
            "1    323\n",
            "Name: count, dtype: int64\n"
          ]
        }
      ],
      "source": [
        "print(sample_df['high_risk'].value_counts())  # Count High vs. Low Risk cases\n"
      ]
    },
    {
      "cell_type": "code",
      "execution_count": null,
      "metadata": {
        "id": "J5F_J-b_S15K"
      },
      "outputs": [],
      "source": []
    },
    {
      "cell_type": "code",
      "execution_count": null,
      "metadata": {
        "colab": {
          "base_uri": "https://localhost:8080/"
        },
        "collapsed": true,
        "id": "94Rza-kp75aF",
        "outputId": "ae65f055-20b3-476c-90a7-5b74e4611bb5"
      },
      "outputs": [
        {
          "name": "stdout",
          "output_type": "stream",
          "text": [
            "Collecting streamlit\n",
            "  Downloading streamlit-1.42.0-py2.py3-none-any.whl.metadata (8.9 kB)\n",
            "Requirement already satisfied: altair<6,>=4.0 in /usr/local/lib/python3.11/dist-packages (from streamlit) (5.5.0)\n",
            "Requirement already satisfied: blinker<2,>=1.0.0 in /usr/local/lib/python3.11/dist-packages (from streamlit) (1.9.0)\n",
            "Requirement already satisfied: cachetools<6,>=4.0 in /usr/local/lib/python3.11/dist-packages (from streamlit) (5.5.1)\n",
            "Requirement already satisfied: click<9,>=7.0 in /usr/local/lib/python3.11/dist-packages (from streamlit) (8.1.8)\n",
            "Requirement already satisfied: numpy<3,>=1.23 in /usr/local/lib/python3.11/dist-packages (from streamlit) (1.26.4)\n",
            "Requirement already satisfied: packaging<25,>=20 in /usr/local/lib/python3.11/dist-packages (from streamlit) (24.2)\n",
            "Requirement already satisfied: pandas<3,>=1.4.0 in /usr/local/lib/python3.11/dist-packages (from streamlit) (2.2.2)\n",
            "Requirement already satisfied: pillow<12,>=7.1.0 in /usr/local/lib/python3.11/dist-packages (from streamlit) (11.1.0)\n",
            "Requirement already satisfied: protobuf<6,>=3.20 in /usr/local/lib/python3.11/dist-packages (from streamlit) (4.25.6)\n",
            "Requirement already satisfied: pyarrow>=7.0 in /usr/local/lib/python3.11/dist-packages (from streamlit) (17.0.0)\n",
            "Requirement already satisfied: requests<3,>=2.27 in /usr/local/lib/python3.11/dist-packages (from streamlit) (2.32.3)\n",
            "Requirement already satisfied: rich<14,>=10.14.0 in /usr/local/lib/python3.11/dist-packages (from streamlit) (13.9.4)\n",
            "Requirement already satisfied: tenacity<10,>=8.1.0 in /usr/local/lib/python3.11/dist-packages (from streamlit) (9.0.0)\n",
            "Requirement already satisfied: toml<2,>=0.10.1 in /usr/local/lib/python3.11/dist-packages (from streamlit) (0.10.2)\n",
            "Requirement already satisfied: typing-extensions<5,>=4.4.0 in /usr/local/lib/python3.11/dist-packages (from streamlit) (4.12.2)\n",
            "Collecting watchdog<7,>=2.1.5 (from streamlit)\n",
            "  Downloading watchdog-6.0.0-py3-none-manylinux2014_x86_64.whl.metadata (44 kB)\n",
            "\u001b[2K     \u001b[90m━━━━━━━━━━━━━━━━━━━━━━━━━━━━━━━━━━━━━━━━\u001b[0m \u001b[32m44.3/44.3 kB\u001b[0m \u001b[31m2.6 MB/s\u001b[0m eta \u001b[36m0:00:00\u001b[0m\n",
            "\u001b[?25hRequirement already satisfied: gitpython!=3.1.19,<4,>=3.0.7 in /usr/local/lib/python3.11/dist-packages (from streamlit) (3.1.44)\n",
            "Collecting pydeck<1,>=0.8.0b4 (from streamlit)\n",
            "  Downloading pydeck-0.9.1-py2.py3-none-any.whl.metadata (4.1 kB)\n",
            "Requirement already satisfied: tornado<7,>=6.0.3 in /usr/local/lib/python3.11/dist-packages (from streamlit) (6.4.2)\n",
            "Requirement already satisfied: jinja2 in /usr/local/lib/python3.11/dist-packages (from altair<6,>=4.0->streamlit) (3.1.5)\n",
            "Requirement already satisfied: jsonschema>=3.0 in /usr/local/lib/python3.11/dist-packages (from altair<6,>=4.0->streamlit) (4.23.0)\n",
            "Requirement already satisfied: narwhals>=1.14.2 in /usr/local/lib/python3.11/dist-packages (from altair<6,>=4.0->streamlit) (1.25.1)\n",
            "Requirement already satisfied: gitdb<5,>=4.0.1 in /usr/local/lib/python3.11/dist-packages (from gitpython!=3.1.19,<4,>=3.0.7->streamlit) (4.0.12)\n",
            "Requirement already satisfied: python-dateutil>=2.8.2 in /usr/local/lib/python3.11/dist-packages (from pandas<3,>=1.4.0->streamlit) (2.8.2)\n",
            "Requirement already satisfied: pytz>=2020.1 in /usr/local/lib/python3.11/dist-packages (from pandas<3,>=1.4.0->streamlit) (2025.1)\n",
            "Requirement already satisfied: tzdata>=2022.7 in /usr/local/lib/python3.11/dist-packages (from pandas<3,>=1.4.0->streamlit) (2025.1)\n",
            "Requirement already satisfied: charset-normalizer<4,>=2 in /usr/local/lib/python3.11/dist-packages (from requests<3,>=2.27->streamlit) (3.4.1)\n",
            "Requirement already satisfied: idna<4,>=2.5 in /usr/local/lib/python3.11/dist-packages (from requests<3,>=2.27->streamlit) (3.10)\n",
            "Requirement already satisfied: urllib3<3,>=1.21.1 in /usr/local/lib/python3.11/dist-packages (from requests<3,>=2.27->streamlit) (2.3.0)\n",
            "Requirement already satisfied: certifi>=2017.4.17 in /usr/local/lib/python3.11/dist-packages (from requests<3,>=2.27->streamlit) (2025.1.31)\n",
            "Requirement already satisfied: markdown-it-py>=2.2.0 in /usr/local/lib/python3.11/dist-packages (from rich<14,>=10.14.0->streamlit) (3.0.0)\n",
            "Requirement already satisfied: pygments<3.0.0,>=2.13.0 in /usr/local/lib/python3.11/dist-packages (from rich<14,>=10.14.0->streamlit) (2.18.0)\n",
            "Requirement already satisfied: smmap<6,>=3.0.1 in /usr/local/lib/python3.11/dist-packages (from gitdb<5,>=4.0.1->gitpython!=3.1.19,<4,>=3.0.7->streamlit) (5.0.2)\n",
            "Requirement already satisfied: MarkupSafe>=2.0 in /usr/local/lib/python3.11/dist-packages (from jinja2->altair<6,>=4.0->streamlit) (3.0.2)\n",
            "Requirement already satisfied: attrs>=22.2.0 in /usr/local/lib/python3.11/dist-packages (from jsonschema>=3.0->altair<6,>=4.0->streamlit) (25.1.0)\n",
            "Requirement already satisfied: jsonschema-specifications>=2023.03.6 in /usr/local/lib/python3.11/dist-packages (from jsonschema>=3.0->altair<6,>=4.0->streamlit) (2024.10.1)\n",
            "Requirement already satisfied: referencing>=0.28.4 in /usr/local/lib/python3.11/dist-packages (from jsonschema>=3.0->altair<6,>=4.0->streamlit) (0.36.2)\n",
            "Requirement already satisfied: rpds-py>=0.7.1 in /usr/local/lib/python3.11/dist-packages (from jsonschema>=3.0->altair<6,>=4.0->streamlit) (0.22.3)\n",
            "Requirement already satisfied: mdurl~=0.1 in /usr/local/lib/python3.11/dist-packages (from markdown-it-py>=2.2.0->rich<14,>=10.14.0->streamlit) (0.1.2)\n",
            "Requirement already satisfied: six>=1.5 in /usr/local/lib/python3.11/dist-packages (from python-dateutil>=2.8.2->pandas<3,>=1.4.0->streamlit) (1.17.0)\n",
            "Downloading streamlit-1.42.0-py2.py3-none-any.whl (9.6 MB)\n",
            "\u001b[2K   \u001b[90m━━━━━━━━━━━━━━━━━━━━━━━━━━━━━━━━━━━━━━━━\u001b[0m \u001b[32m9.6/9.6 MB\u001b[0m \u001b[31m73.6 MB/s\u001b[0m eta \u001b[36m0:00:00\u001b[0m\n",
            "\u001b[?25hDownloading pydeck-0.9.1-py2.py3-none-any.whl (6.9 MB)\n",
            "\u001b[2K   \u001b[90m━━━━━━━━━━━━━━━━━━━━━━━━━━━━━━━━━━━━━━━━\u001b[0m \u001b[32m6.9/6.9 MB\u001b[0m \u001b[31m94.7 MB/s\u001b[0m eta \u001b[36m0:00:00\u001b[0m\n",
            "\u001b[?25hDownloading watchdog-6.0.0-py3-none-manylinux2014_x86_64.whl (79 kB)\n",
            "\u001b[2K   \u001b[90m━━━━━━━━━━━━━━━━━━━━━━━━━━━━━━━━━━━━━━━━\u001b[0m \u001b[32m79.1/79.1 kB\u001b[0m \u001b[31m7.3 MB/s\u001b[0m eta \u001b[36m0:00:00\u001b[0m\n",
            "\u001b[?25hInstalling collected packages: watchdog, pydeck, streamlit\n",
            "Successfully installed pydeck-0.9.1 streamlit-1.42.0 watchdog-6.0.0\n"
          ]
        }
      ],
      "source": [
        "!pip install streamlit"
      ]
    },
    {
      "cell_type": "code",
      "execution_count": null,
      "metadata": {
        "colab": {
          "base_uri": "https://localhost:8080/"
        },
        "collapsed": true,
        "id": "dP53WdBX-h9_",
        "outputId": "a4ca6e5c-1cc5-44b5-8a33-15279c6c07e9"
      },
      "outputs": [
        {
          "name": "stdout",
          "output_type": "stream",
          "text": [
            "Collecting pyngrok\n",
            "  Downloading pyngrok-7.2.3-py3-none-any.whl.metadata (8.7 kB)\n",
            "Requirement already satisfied: PyYAML>=5.1 in /usr/local/lib/python3.11/dist-packages (from pyngrok) (6.0.2)\n",
            "Downloading pyngrok-7.2.3-py3-none-any.whl (23 kB)\n",
            "Installing collected packages: pyngrok\n",
            "Successfully installed pyngrok-7.2.3\n"
          ]
        }
      ],
      "source": [
        "!pip install pyngrok"
      ]
    },
    {
      "cell_type": "code",
      "execution_count": null,
      "metadata": {
        "colab": {
          "base_uri": "https://localhost:8080/",
          "height": 723
        },
        "collapsed": true,
        "id": "-Uaz6n1_sqcr",
        "outputId": "ad35d3d4-64e2-4668-d046-9f405517ce32"
      },
      "outputs": [
        {
          "name": "stdout",
          "output_type": "stream",
          "text": [
            "Requirement already satisfied: google-auth in /usr/local/lib/python3.11/dist-packages (2.27.0)\n",
            "Collecting google-auth\n",
            "  Downloading google_auth-2.38.0-py2.py3-none-any.whl.metadata (4.8 kB)\n",
            "Requirement already satisfied: google-auth-oauthlib in /usr/local/lib/python3.11/dist-packages (1.2.1)\n",
            "Requirement already satisfied: google-auth-httplib2 in /usr/local/lib/python3.11/dist-packages (0.2.0)\n",
            "Requirement already satisfied: google-api-python-client in /usr/local/lib/python3.11/dist-packages (2.160.0)\n",
            "Requirement already satisfied: cachetools<6.0,>=2.0.0 in /usr/local/lib/python3.11/dist-packages (from google-auth) (5.5.1)\n",
            "Requirement already satisfied: pyasn1-modules>=0.2.1 in /usr/local/lib/python3.11/dist-packages (from google-auth) (0.4.1)\n",
            "Requirement already satisfied: rsa<5,>=3.1.4 in /usr/local/lib/python3.11/dist-packages (from google-auth) (4.9)\n",
            "Requirement already satisfied: requests-oauthlib>=0.7.0 in /usr/local/lib/python3.11/dist-packages (from google-auth-oauthlib) (2.0.0)\n",
            "Requirement already satisfied: httplib2>=0.19.0 in /usr/local/lib/python3.11/dist-packages (from google-auth-httplib2) (0.22.0)\n",
            "Requirement already satisfied: google-api-core!=2.0.*,!=2.1.*,!=2.2.*,!=2.3.0,<3.0.0.dev0,>=1.31.5 in /usr/local/lib/python3.11/dist-packages (from google-api-python-client) (2.19.2)\n",
            "Requirement already satisfied: uritemplate<5,>=3.0.1 in /usr/local/lib/python3.11/dist-packages (from google-api-python-client) (4.1.1)\n",
            "Requirement already satisfied: googleapis-common-protos<2.0.dev0,>=1.56.2 in /usr/local/lib/python3.11/dist-packages (from google-api-core!=2.0.*,!=2.1.*,!=2.2.*,!=2.3.0,<3.0.0.dev0,>=1.31.5->google-api-python-client) (1.66.0)\n",
            "Requirement already satisfied: protobuf!=3.20.0,!=3.20.1,!=4.21.0,!=4.21.1,!=4.21.2,!=4.21.3,!=4.21.4,!=4.21.5,<6.0.0.dev0,>=3.19.5 in /usr/local/lib/python3.11/dist-packages (from google-api-core!=2.0.*,!=2.1.*,!=2.2.*,!=2.3.0,<3.0.0.dev0,>=1.31.5->google-api-python-client) (4.25.6)\n",
            "Requirement already satisfied: proto-plus<2.0.0dev,>=1.22.3 in /usr/local/lib/python3.11/dist-packages (from google-api-core!=2.0.*,!=2.1.*,!=2.2.*,!=2.3.0,<3.0.0.dev0,>=1.31.5->google-api-python-client) (1.26.0)\n",
            "Requirement already satisfied: requests<3.0.0.dev0,>=2.18.0 in /usr/local/lib/python3.11/dist-packages (from google-api-core!=2.0.*,!=2.1.*,!=2.2.*,!=2.3.0,<3.0.0.dev0,>=1.31.5->google-api-python-client) (2.32.3)\n",
            "Requirement already satisfied: pyparsing!=3.0.0,!=3.0.1,!=3.0.2,!=3.0.3,<4,>=2.4.2 in /usr/local/lib/python3.11/dist-packages (from httplib2>=0.19.0->google-auth-httplib2) (3.2.1)\n",
            "Requirement already satisfied: pyasn1<0.7.0,>=0.4.6 in /usr/local/lib/python3.11/dist-packages (from pyasn1-modules>=0.2.1->google-auth) (0.6.1)\n",
            "Requirement already satisfied: oauthlib>=3.0.0 in /usr/local/lib/python3.11/dist-packages (from requests-oauthlib>=0.7.0->google-auth-oauthlib) (3.2.2)\n",
            "Requirement already satisfied: charset-normalizer<4,>=2 in /usr/local/lib/python3.11/dist-packages (from requests<3.0.0.dev0,>=2.18.0->google-api-core!=2.0.*,!=2.1.*,!=2.2.*,!=2.3.0,<3.0.0.dev0,>=1.31.5->google-api-python-client) (3.4.1)\n",
            "Requirement already satisfied: idna<4,>=2.5 in /usr/local/lib/python3.11/dist-packages (from requests<3.0.0.dev0,>=2.18.0->google-api-core!=2.0.*,!=2.1.*,!=2.2.*,!=2.3.0,<3.0.0.dev0,>=1.31.5->google-api-python-client) (3.10)\n",
            "Requirement already satisfied: urllib3<3,>=1.21.1 in /usr/local/lib/python3.11/dist-packages (from requests<3.0.0.dev0,>=2.18.0->google-api-core!=2.0.*,!=2.1.*,!=2.2.*,!=2.3.0,<3.0.0.dev0,>=1.31.5->google-api-python-client) (2.3.0)\n",
            "Requirement already satisfied: certifi>=2017.4.17 in /usr/local/lib/python3.11/dist-packages (from requests<3.0.0.dev0,>=2.18.0->google-api-core!=2.0.*,!=2.1.*,!=2.2.*,!=2.3.0,<3.0.0.dev0,>=1.31.5->google-api-python-client) (2025.1.31)\n",
            "Downloading google_auth-2.38.0-py2.py3-none-any.whl (210 kB)\n",
            "\u001b[2K   \u001b[90m━━━━━━━━━━━━━━━━━━━━━━━━━━━━━━━━━━━━━━━━\u001b[0m \u001b[32m210.8/210.8 kB\u001b[0m \u001b[31m4.8 MB/s\u001b[0m eta \u001b[36m0:00:00\u001b[0m\n",
            "\u001b[?25hInstalling collected packages: google-auth\n",
            "  Attempting uninstall: google-auth\n",
            "    Found existing installation: google-auth 2.27.0\n",
            "    Uninstalling google-auth-2.27.0:\n",
            "      Successfully uninstalled google-auth-2.27.0\n",
            "\u001b[31mERROR: pip's dependency resolver does not currently take into account all the packages that are installed. This behaviour is the source of the following dependency conflicts.\n",
            "google-colab 1.0.0 requires google-auth==2.27.0, but you have google-auth 2.38.0 which is incompatible.\u001b[0m\u001b[31m\n",
            "\u001b[0mSuccessfully installed google-auth-2.38.0\n"
          ]
        },
        {
          "data": {
            "application/vnd.colab-display-data+json": {
              "id": "a4f29150e44747ccb6c88f9cd036778a",
              "pip_warning": {
                "packages": [
                  "google"
                ]
              }
            }
          },
          "metadata": {},
          "output_type": "display_data"
        }
      ],
      "source": [
        "!pip install --upgrade google-auth google-auth-oauthlib google-auth-httplib2 google-api-python-client\n"
      ]
    },
    {
      "cell_type": "code",
      "execution_count": null,
      "metadata": {
        "id": "LAuUfuv3c4Lc"
      },
      "outputs": [],
      "source": []
    },
    {
      "cell_type": "code",
      "execution_count": null,
      "metadata": {
        "colab": {
          "base_uri": "https://localhost:8080/"
        },
        "id": "wnKw9ye4UvuU",
        "outputId": "be37cdf4-dfce-47a1-d898-60b5667e6d1a"
      },
      "outputs": [
        {
          "name": "stdout",
          "output_type": "stream",
          "text": [
            "Writing app.py\n"
          ]
        }
      ],
      "source": [
        "%%writefile app.py\n",
        "# Paste the above Streamlit code here\n",
        "import joblib\n",
        "import streamlit as st\n",
        "import plotly.express as px\n",
        "import pandas as pd\n",
        "import urllib.parse\n",
        "import base64\n",
        "from google.oauth2.credentials import Credentials\n",
        "from googleapiclient.discovery import build\n",
        "from email.mime.multipart import MIMEMultipart\n",
        "from email.mime.text import MIMEText\n",
        "\n",
        "# Load Models and Multi-Label Binarizer\n",
        "rf_model = joblib.load(\"determine_high_risk.pkl\")\n",
        "mlb_symptoms = joblib.load(\"mlb_symptoms.pkl\")\n",
        "disease_model = joblib.load(\"predict_disease.pkl\")\n",
        "vectorizer = joblib.load(\"tfidf_vectorizer.pkl\")\n",
        "HOSPITAL_EMAIL = \"chhaviel04@gmail.com\"\n",
        "\n",
        "CLIENT_ID = \"************************************\"\n",
        "CLIENT_SECRET = \"********************************\"\n",
        "REFRESH_TOKEN = \"*****************************************\"\n",
        "YOUR_GMAIL = \"chhavichadha07@gmail.com\"\n",
        "\n",
        "# ✅ Gmail API Authentication\n",
        "def authenticate_gmail():\n",
        "    creds = Credentials(\n",
        "        None,\n",
        "        refresh_token=REFRESH_TOKEN,\n",
        "        token_uri=\"https://oauth2.googleapis.com/token\",\n",
        "        client_id=CLIENT_ID,\n",
        "        client_secret=CLIENT_SECRET,\n",
        "    )\n",
        "    return build(\"gmail\", \"v1\", credentials=creds)\n",
        "\n",
        "# ✅ Function to Send High-Risk Alert Email\n",
        "def send_high_risk_email(patient_id, name, number, age, gender, symptoms, risk_level):\n",
        "    service = authenticate_gmail()\n",
        "\n",
        "    subject = \"🚨 Emergency Alert: High-Risk Patient\"\n",
        "    body = f\"\"\"\n",
        "    ⚠️ High-Risk Patient Report ⚠️\n",
        "\n",
        "    Patient ID: {patient_id}\n",
        "    Name: {name}\n",
        "    Mobile: {number}\n",
        "    Age: {age}\n",
        "    Gender: {gender}\n",
        "    Symptoms: {', '.join(symptoms)}\n",
        "    Risk Level: {risk_level}\n",
        "\n",
        "    Please take necessary action.\n",
        "    \"\"\"\n",
        "\n",
        "    msg = MIMEMultipart()\n",
        "    msg[\"From\"] = YOUR_GMAIL\n",
        "    msg[\"To\"] = YOUR_GMAIL  # Change if sending to a doctor/hospital email\n",
        "    msg[\"Subject\"] = subject\n",
        "    msg.attach(MIMEText(body, \"plain\"))\n",
        "\n",
        "    raw_message = base64.urlsafe_b64encode(msg.as_bytes()).decode(\"utf-8\")\n",
        "    message = {\"raw\": raw_message}\n",
        "\n",
        "    try:\n",
        "        service.users().messages().send(userId=\"me\", body=message).execute()\n",
        "        print(f\"✅ Email sent successfully to {YOUR_GMAIL}\")\n",
        "    except Exception as e:\n",
        "        print(f\"❌ Failed to send email: {e}\")\n",
        "\n",
        "\n",
        "# High-risk assessment function\n",
        "import numpy as np\n",
        "import pandas as pd\n",
        "\n",
        "def determine_high_risk(symptoms, age):\n",
        "    try:\n",
        "        # Ensure symptoms are a list\n",
        "        if not isinstance(symptoms, list):\n",
        "            symptoms = [symptoms]\n",
        "\n",
        "        # Convert symptoms into binary format using the trained mlb_symptoms\n",
        "        symptoms_vectorized = mlb_symptoms.transform([symptoms])\n",
        "\n",
        "        # Convert to dense array if necessary\n",
        "        if hasattr(symptoms_vectorized, 'toarray'):\n",
        "            symptoms_vectorized = symptoms_vectorized.toarray()\n",
        "\n",
        "        # Make a prediction with the trained RandomForest model\n",
        "        prediction = rf_model.predict(symptoms_vectorized)\n",
        "\n",
        "        # Return high or low risk based on the model's prediction\n",
        "        return \"High Risk\" if prediction[0] == 1 else \"Low Risk\"\n",
        "\n",
        "    except Exception as e:\n",
        "        print(f\"Error in determine_high_risk: {e}\")\n",
        "        raise e\n",
        "\n",
        "\n",
        "\n",
        "\n",
        "\n",
        "\n",
        "# Initialize Session State for Patient Reports\n",
        "if 'patient_reports' not in st.session_state:\n",
        "    st.session_state.patient_reports = []\n",
        "\n",
        "# Set Background Image for Homepage\n",
        "def set_bg_image():\n",
        "    st.markdown(\n",
        "        \"\"\"\n",
        "        <style>\n",
        "        .stApp {\n",
        "            background-image: url(\"/content/Untitled design (7).png\");\n",
        "            background-size: 200px;\n",
        "        }\n",
        "        </style>\n",
        "        \"\"\",\n",
        "        unsafe_allow_html=True\n",
        "    )\n",
        "\n",
        "\n",
        "\n",
        "def predict_disease(symptoms_string):\n",
        "    try:\n",
        "        # Ensure input is a clean, properly formatted string\n",
        "        symptoms_list = [s.strip() for s in symptoms_string.split(',') if s.strip()]\n",
        "\n",
        "        if not symptoms_list:\n",
        "            return \"Unknown Disease\"  # Handle empty input safely\n",
        "\n",
        "        # Convert symptoms into a single string (expected format for vectorizer)\n",
        "        symptoms_transformed = vectorizer.transform([\" \".join(symptoms_list)])\n",
        "\n",
        "        # Convert sparse matrix to dense array if necessary\n",
        "        if hasattr(symptoms_transformed, 'toarray'):\n",
        "            symptoms_transformed = symptoms_transformed.toarray()\n",
        "\n",
        "        # Make prediction using trained model\n",
        "        prediction = model.predict(symptoms_transformed)\n",
        "\n",
        "        # Ensure prediction is extracted properly\n",
        "        if isinstance(prediction, (list, np.ndarray)):\n",
        "            predicted_disease = prediction[0]  # Extract first element\n",
        "        else:\n",
        "            predicted_disease = prediction\n",
        "\n",
        "        return predicted_disease\n",
        "\n",
        "    except Exception as e:\n",
        "        print(f\"Error in predict_disease: {e}\")  # Debugging error messages\n",
        "        import traceback\n",
        "        traceback.print_exc()\n",
        "        return \"Unknown Disease\"\n",
        "\n",
        "\n",
        "# Homepage\n",
        "def homepage():\n",
        "    set_bg_image()\n",
        "    st.title(\"🏥 Welcome to Mediboard\")\n",
        "    st.write(\"This platform allows patients to securely submit their health details and symptoms for risk assessment by medical professionals.\")\n",
        "\n",
        "# Visualization Board\n",
        "def visualization_board():\n",
        "    st.title(\"📊 Health Analysis Dashboard\")\n",
        "    if len(st.session_state.patient_reports) == 0:\n",
        "        st.warning(\"No patient data available for analysis.\")\n",
        "        return\n",
        "\n",
        "    df = pd.DataFrame(st.session_state.patient_reports, columns=[\"Patient ID\", \"Name\", \"Mobile.no\", \"Age\", \"Gender\", \"Symptoms\", \"Risk Level\"])\n",
        "\n",
        "    symptom_counts = df[\"Symptoms\"].explode().value_counts()\n",
        "    fig1 = px.bar(symptom_counts, x=symptom_counts.index, y=symptom_counts.values, title=\"Most Common Symptoms\")\n",
        "\n",
        "    risk_counts = df[\"Risk Level\"].value_counts()\n",
        "    fig2 = px.pie(names=risk_counts.index, values=risk_counts.values, title=\"Risk Level Distribution\")\n",
        "\n",
        "    fig3 = px.box(df, x=\"Risk Level\", y=\"Age\", title=\"Age Distribution by Risk levels\")\n",
        "\n",
        "\n",
        "\n",
        "    st.plotly_chart(fig1)\n",
        "    st.plotly_chart(fig2)\n",
        "    st.plotly_chart(fig3)\n",
        "\n",
        "\n",
        "# Patient Dashboard\n",
        "def patient_dashboard():\n",
        "    st.title(\"🩺 Patient Information\")\n",
        "    name = st.text_input(\"Enter Patient Name\")\n",
        "    number = st.text_input(\"Enter Mobile.no\")\n",
        "    age = st.number_input(\"Enter Age\", min_value=0, max_value=120, step=1)\n",
        "    gender = st.selectbox(\"Enter Gender\", [\"M\", \"F\", \"Other\"])\n",
        "    symptoms = st.text_area(\"Enter Symptoms (comma-separated)\")\n",
        "\n",
        "    if st.button(\"Submit\"):\n",
        "      if symptoms:\n",
        "        symptoms_list = [s.strip() for s in symptoms.split(',')]\n",
        "\n",
        "        # Use the trained model for risk assessment\n",
        "        high_risk = determine_high_risk(symptoms_list, age)\n",
        "\n",
        "        patient_id = len(st.session_state.patient_reports) + 1\n",
        "        st.session_state.patient_reports.append([patient_id, name, number, age, gender, symptoms_list, high_risk])\n",
        "\n",
        "        st.write(\"### Patient Summary\")\n",
        "        st.write(f\"**Patient ID:** {patient_id}\")\n",
        "        st.write(f\"**Name:** {name}\")\n",
        "        st.write(f\"**Mobile.no:** {number}\")\n",
        "        st.write(f\"**Age:** {age}\")\n",
        "        st.write(f\"**Gender:** {gender}\")\n",
        "        st.write(f\"**Symptoms:** {', '.join(symptoms_list)}\")\n",
        "        st.write(f\"**Risk Level:** {high_risk}\")\n",
        "\n",
        "        if high_risk == \"High Risk\":\n",
        "          email_subject = \"!!Emergency Alert: High-Risk Patient\"\n",
        "          email_body = f\"\"\"\n",
        "                SEND YOUR REPORT TO MEDICARE.\\n\n",
        "                FROM:{name}\\n\n",
        "                Patient ID: {patient_id}\\n\n",
        "                Name: {name}\\n\n",
        "                Mobile.no: {number}\\n\n",
        "                Age: {age}\\n\n",
        "                Gender: {gender}\\n\n",
        "                Symptoms: {', '.join(symptoms_list)}\\n\n",
        "                Risk Level: {high_risk}\\n\n",
        "                Please take\n",
        "                necessary action.\n",
        "                \"\"\"\n",
        "          st.error(\"!! We had sent your report to doctor for evaluation !!.\")\n",
        "          send_high_risk_email(patient_id, name, number, age, gender, symptoms_list, high_risk)\n",
        "          st.success(\"🚨 Email sent to the hospital for review, We will get in touch with you soon! \")\n",
        "\n",
        "\n",
        "\n",
        "# Doctor Dashboard\n",
        "def doctor_dashboard():\n",
        "    st.title(\"👨‍⚕️ Doctor Dashboard\")\n",
        "    if len(st.session_state.patient_reports) == 0:\n",
        "        st.warning(\"No patient reports available.\")\n",
        "        return\n",
        "    df = pd.DataFrame(st.session_state.patient_reports, columns=[\"Patient ID\", \"Name\", \"Mobile.no\", \"Age\", \"Gender\", \"Symptoms\", \"Risk Level\"])\n",
        "    st.dataframe(df)\n",
        "\n",
        "# Sidebar Navigation\n",
        "st.sidebar.title(\"Navigation\")\n",
        "page = st.sidebar.radio(\"Go to\", [\"Home\", \"Healthcare Analytics Panel\", \"Health Assessment Portal\", \"Clinical Insights Hub\"])\n",
        "if page == \"Home\":\n",
        "    homepage()\n",
        "elif page == \"Healthcare Analytics Panel\":\n",
        "    visualization_board()\n",
        "elif page == \"Health Assessment Portal\":\n",
        "    patient_dashboard()\n",
        "elif page == \"Clinical Insights Hub\":\n",
        "    doctor_dashboard()\n",
        "\n"
      ]
    },
    {
      "cell_type": "code",
      "execution_count": null,
      "metadata": {
        "colab": {
          "background_save": true,
          "base_uri": "https://localhost:8080/"
        },
        "id": "XrUcmIRndB8_",
        "outputId": "e60d1294-f4c5-4594-d1a7-ea6e1acb3c3d"
      },
      "outputs": [
        {
          "name": "stdout",
          "output_type": "stream",
          "text": [
            "\n",
            "Collecting usage statistics. To deactivate, set browser.gatherUsageStats to false.\n",
            "\u001b[0m\n",
            "\u001b[1G\u001b[0K⠙\u001b[1G\u001b[0K⠹\u001b[1G\u001b[0K⠸\u001b[1G\u001b[0K⠼\u001b[1G\u001b[0K⠴\u001b[1G\u001b[0K⠦\u001b[1G\u001b[0K⠧\u001b[0m\n",
            "\u001b[34m\u001b[1m  You can now view your Streamlit app in your browser.\u001b[0m\n",
            "\u001b[0m\n",
            "\u001b[34m  Local URL: \u001b[0m\u001b[1mhttp://localhost:8501\u001b[0m\n",
            "\u001b[34m  Network URL: \u001b[0m\u001b[1mhttp://172.28.0.12:8501\u001b[0m\n",
            "\u001b[34m  External URL: \u001b[0m\u001b[1mhttp://35.233.152.118:8501\u001b[0m\n",
            "\u001b[0m\n",
            "\u001b[1G\u001b[0K⠇\u001b[1G\u001b[0K\u001b[90m2025-02-08T13:19:39Z\u001b[0m \u001b[32mINF\u001b[0m Thank you for trying Cloudflare Tunnel. Doing so, without a Cloudflare account, is a quick way to experiment and try it out. However, be aware that these account-less Tunnels have no uptime guarantee, are subject to the Cloudflare Online Services Terms of Use (https://www.cloudflare.com/website-terms/), and Cloudflare reserves the right to investigate your use of Tunnels for violations of such terms. If you intend to use Tunnels in production you should use a pre-created named tunnel by following: https://developers.cloudflare.com/cloudflare-one/connections/connect-apps\n",
            "\u001b[90m2025-02-08T13:19:39Z\u001b[0m \u001b[32mINF\u001b[0m Requesting new quick Tunnel on trycloudflare.com...\n",
            "\u001b[90m2025-02-08T13:19:42Z\u001b[0m \u001b[32mINF\u001b[0m +--------------------------------------------------------------------------------------------+\n",
            "\u001b[90m2025-02-08T13:19:42Z\u001b[0m \u001b[32mINF\u001b[0m |  Your quick Tunnel has been created! Visit it at (it may take some time to be reachable):  |\n",
            "\u001b[90m2025-02-08T13:19:42Z\u001b[0m \u001b[32mINF\u001b[0m |  https://cbs-sister-patent-permissions.trycloudflare.com                                   |\n",
            "\u001b[90m2025-02-08T13:19:42Z\u001b[0m \u001b[32mINF\u001b[0m +--------------------------------------------------------------------------------------------+\n",
            "\u001b[90m2025-02-08T13:19:42Z\u001b[0m \u001b[32mINF\u001b[0m Cannot determine default configuration path. No file [config.yml config.yaml] in [~/.cloudflared ~/.cloudflare-warp ~/cloudflare-warp /etc/cloudflared /usr/local/etc/cloudflared]\n",
            "\u001b[90m2025-02-08T13:19:42Z\u001b[0m \u001b[32mINF\u001b[0m Version 2025.2.0 (Checksum cbd18c5a6dee084db7a55d761b91202e47e63ddbd18d0faff04ca96e56739b3f)\n",
            "\u001b[90m2025-02-08T13:19:42Z\u001b[0m \u001b[32mINF\u001b[0m GOOS: linux, GOVersion: go1.22.10, GoArch: amd64\n",
            "\u001b[90m2025-02-08T13:19:42Z\u001b[0m \u001b[32mINF\u001b[0m Settings: map[ha-connections:1 protocol:quic url:http://localhost:8501]\n",
            "\u001b[90m2025-02-08T13:19:42Z\u001b[0m \u001b[32mINF\u001b[0m cloudflared will not automatically update when run from the shell. To enable auto-updates, run cloudflared as a service: https://developers.cloudflare.com/cloudflare-one/connections/connect-apps/run-tunnel/as-a-service/\n",
            "\u001b[90m2025-02-08T13:19:42Z\u001b[0m \u001b[32mINF\u001b[0m Generated Connector ID: 2cf85126-ed04-4f51-808a-b34828949e47\n",
            "\u001b[90m2025-02-08T13:19:42Z\u001b[0m \u001b[32mINF\u001b[0m Initial protocol quic\n",
            "\u001b[90m2025-02-08T13:19:42Z\u001b[0m \u001b[32mINF\u001b[0m ICMP proxy will use 172.28.0.12 as source for IPv4\n",
            "\u001b[90m2025-02-08T13:19:42Z\u001b[0m \u001b[32mINF\u001b[0m ICMP proxy will use :: as source for IPv6\n",
            "\u001b[90m2025-02-08T13:19:42Z\u001b[0m \u001b[32mINF\u001b[0m ICMP proxy will use 172.28.0.12 as source for IPv4\n",
            "\u001b[90m2025-02-08T13:19:42Z\u001b[0m \u001b[32mINF\u001b[0m ICMP proxy will use :: as source for IPv6\n",
            "\u001b[90m2025-02-08T13:19:42Z\u001b[0m \u001b[32mINF\u001b[0m Starting metrics server on 127.0.0.1:20241/metrics\n",
            "\u001b[90m2025-02-08T13:19:42Z\u001b[0m \u001b[32mINF\u001b[0m Using [CurveID(4588) CurveID(25497) CurveP256] as curve preferences \u001b[36mconnIndex=\u001b[0m0 \u001b[36mevent=\u001b[0m0 \u001b[36mip=\u001b[0m198.41.200.43\n",
            "2025/02/08 13:19:42 failed to sufficiently increase receive buffer size (was: 208 kiB, wanted: 7168 kiB, got: 416 kiB). See https://github.com/quic-go/quic-go/wiki/UDP-Buffer-Sizes for details.\n",
            "\u001b[90m2025-02-08T13:19:42Z\u001b[0m \u001b[32mINF\u001b[0m Registered tunnel connection \u001b[36mconnIndex=\u001b[0m0 \u001b[36mconnection=\u001b[0m2a9df8f0-24e3-4395-ad36-069eb21bd785 \u001b[36mevent=\u001b[0m0 \u001b[36mip=\u001b[0m198.41.200.43 \u001b[36mlocation=\u001b[0msea09 \u001b[36mprotocol=\u001b[0mquic\n",
            "\u001b[90m2025-02-08T13:20:00Z\u001b[0m \u001b[1m\u001b[31mERR\u001b[0m\u001b[0m  \u001b[31merror=\u001b[0m\u001b[31m\"stream 41 canceled by remote with error code 0\"\u001b[0m \u001b[36mconnIndex=\u001b[0m0 \u001b[36mevent=\u001b[0m1 \u001b[36mingressRule=\u001b[0m0 \u001b[36moriginService=\u001b[0mhttp://localhost:8501\n",
            "\u001b[90m2025-02-08T13:20:00Z\u001b[0m \u001b[1m\u001b[31mERR\u001b[0m\u001b[0m Request failed \u001b[31merror=\u001b[0m\u001b[31m\"stream 41 canceled by remote with error code 0\"\u001b[0m \u001b[36mconnIndex=\u001b[0m0 \u001b[36mdest=\u001b[0mhttps://cbs-sister-patent-permissions.trycloudflare.com/static/media/SourceSansPro-Bold.-6c9oR8J.woff2 \u001b[36mevent=\u001b[0m0 \u001b[36mip=\u001b[0m198.41.200.43 \u001b[36mtype=\u001b[0mhttp\n",
            "\u001b[90m2025-02-08T13:20:00Z\u001b[0m \u001b[1m\u001b[31mERR\u001b[0m\u001b[0m  \u001b[31merror=\u001b[0m\u001b[31m\"stream 49 canceled by remote with error code 0\"\u001b[0m \u001b[36mconnIndex=\u001b[0m0 \u001b[36mevent=\u001b[0m1 \u001b[36mingressRule=\u001b[0m0 \u001b[36moriginService=\u001b[0mhttp://localhost:8501\n",
            "\u001b[90m2025-02-08T13:20:00Z\u001b[0m \u001b[1m\u001b[31mERR\u001b[0m\u001b[0m Request failed \u001b[31merror=\u001b[0m\u001b[31m\"stream 49 canceled by remote with error code 0\"\u001b[0m \u001b[36mconnIndex=\u001b[0m0 \u001b[36mdest=\u001b[0mhttps://cbs-sister-patent-permissions.trycloudflare.com/static/js/index.NJJ4tUjP.js \u001b[36mevent=\u001b[0m0 \u001b[36mip=\u001b[0m198.41.200.43 \u001b[36mtype=\u001b[0mhttp\n",
            "\u001b[90m2025-02-08T13:20:00Z\u001b[0m \u001b[1m\u001b[31mERR\u001b[0m\u001b[0m  \u001b[31merror=\u001b[0m\u001b[31m\"stream 53 canceled by remote with error code 0\"\u001b[0m \u001b[36mconnIndex=\u001b[0m0 \u001b[36mevent=\u001b[0m1 \u001b[36mingressRule=\u001b[0m0 \u001b[36moriginService=\u001b[0mhttp://localhost:8501\n",
            "\u001b[90m2025-02-08T13:20:00Z\u001b[0m \u001b[1m\u001b[31mERR\u001b[0m\u001b[0m Request failed \u001b[31merror=\u001b[0m\u001b[31m\"stream 53 canceled by remote with error code 0\"\u001b[0m \u001b[36mconnIndex=\u001b[0m0 \u001b[36mdest=\u001b[0mhttps://cbs-sister-patent-permissions.trycloudflare.com/static/media/SourceSansPro-Regular.DZLUzqI4.woff2 \u001b[36mevent=\u001b[0m0 \u001b[36mip=\u001b[0m198.41.200.43 \u001b[36mtype=\u001b[0mhttp\n",
            "\u001b[90m2025-02-08T13:20:00Z\u001b[0m \u001b[1m\u001b[31mERR\u001b[0m\u001b[0m  \u001b[31merror=\u001b[0m\u001b[31m\"stream 45 canceled by remote with error code 0\"\u001b[0m \u001b[36mconnIndex=\u001b[0m0 \u001b[36mevent=\u001b[0m1 \u001b[36mingressRule=\u001b[0m0 \u001b[36moriginService=\u001b[0mhttp://localhost:8501\n",
            "\u001b[90m2025-02-08T13:20:00Z\u001b[0m \u001b[1m\u001b[31mERR\u001b[0m\u001b[0m Request failed \u001b[31merror=\u001b[0m\u001b[31m\"stream 45 canceled by remote with error code 0\"\u001b[0m \u001b[36mconnIndex=\u001b[0m0 \u001b[36mdest=\u001b[0mhttps://cbs-sister-patent-permissions.trycloudflare.com/static/media/SourceSansPro-SemiBold.sKQIyTMz.woff2 \u001b[36mevent=\u001b[0m0 \u001b[36mip=\u001b[0m198.41.200.43 \u001b[36mtype=\u001b[0mhttp\n",
            "\u001b[90m2025-02-08T13:20:00Z\u001b[0m \u001b[1m\u001b[31mERR\u001b[0m\u001b[0m  \u001b[31merror=\u001b[0m\u001b[31m\"stream 73 canceled by remote with error code 0\"\u001b[0m \u001b[36mconnIndex=\u001b[0m0 \u001b[36mevent=\u001b[0m1 \u001b[36mingressRule=\u001b[0m0 \u001b[36moriginService=\u001b[0mhttp://localhost:8501\n",
            "\u001b[90m2025-02-08T13:20:00Z\u001b[0m \u001b[1m\u001b[31mERR\u001b[0m\u001b[0m Request failed \u001b[31merror=\u001b[0m\u001b[31m\"stream 73 canceled by remote with error code 0\"\u001b[0m \u001b[36mconnIndex=\u001b[0m0 \u001b[36mdest=\u001b[0mhttps://cbs-sister-patent-permissions.trycloudflare.com/static/media/SourceSansPro-Regular.DZLUzqI4.woff2 \u001b[36mevent=\u001b[0m0 \u001b[36mip=\u001b[0m198.41.200.43 \u001b[36mtype=\u001b[0mhttp\n",
            "\u001b[90m2025-02-08T13:20:00Z\u001b[0m \u001b[1m\u001b[31mERR\u001b[0m\u001b[0m  \u001b[31merror=\u001b[0m\u001b[31m\"stream 77 canceled by remote with error code 0\"\u001b[0m \u001b[36mconnIndex=\u001b[0m0 \u001b[36mevent=\u001b[0m1 \u001b[36mingressRule=\u001b[0m0 \u001b[36moriginService=\u001b[0mhttp://localhost:8501\n",
            "\u001b[90m2025-02-08T13:20:00Z\u001b[0m \u001b[1m\u001b[31mERR\u001b[0m\u001b[0m Request failed \u001b[31merror=\u001b[0m\u001b[31m\"stream 77 canceled by remote with error code 0\"\u001b[0m \u001b[36mconnIndex=\u001b[0m0 \u001b[36mdest=\u001b[0mhttps://cbs-sister-patent-permissions.trycloudflare.com/static/media/SourceSansPro-SemiBold.sKQIyTMz.woff2 \u001b[36mevent=\u001b[0m0 \u001b[36mip=\u001b[0m198.41.200.43 \u001b[36mtype=\u001b[0mhttp\n",
            "\u001b[90m2025-02-08T13:20:00Z\u001b[0m \u001b[1m\u001b[31mERR\u001b[0m\u001b[0m  \u001b[31merror=\u001b[0m\u001b[31m\"stream 69 canceled by remote with error code 0\"\u001b[0m \u001b[36mconnIndex=\u001b[0m0 \u001b[36mevent=\u001b[0m1 \u001b[36mingressRule=\u001b[0m0 \u001b[36moriginService=\u001b[0mhttp://localhost:8501\n",
            "\u001b[90m2025-02-08T13:20:00Z\u001b[0m \u001b[1m\u001b[31mERR\u001b[0m\u001b[0m Request failed \u001b[31merror=\u001b[0m\u001b[31m\"stream 69 canceled by remote with error code 0\"\u001b[0m \u001b[36mconnIndex=\u001b[0m0 \u001b[36mdest=\u001b[0mhttps://cbs-sister-patent-permissions.trycloudflare.com/static/js/index.NJJ4tUjP.js \u001b[36mevent=\u001b[0m0 \u001b[36mip=\u001b[0m198.41.200.43 \u001b[36mtype=\u001b[0mhttp\n",
            "\u001b[90m2025-02-08T13:20:00Z\u001b[0m \u001b[1m\u001b[31mERR\u001b[0m\u001b[0m  \u001b[31merror=\u001b[0m\u001b[31m\"stream 65 canceled by remote with error code 0\"\u001b[0m \u001b[36mconnIndex=\u001b[0m0 \u001b[36mevent=\u001b[0m1 \u001b[36mingressRule=\u001b[0m0 \u001b[36moriginService=\u001b[0mhttp://localhost:8501\n",
            "\u001b[90m2025-02-08T13:20:00Z\u001b[0m \u001b[1m\u001b[31mERR\u001b[0m\u001b[0m Request failed \u001b[31merror=\u001b[0m\u001b[31m\"stream 65 canceled by remote with error code 0\"\u001b[0m \u001b[36mconnIndex=\u001b[0m0 \u001b[36mdest=\u001b[0mhttps://cbs-sister-patent-permissions.trycloudflare.com/static/media/SourceSansPro-Bold.-6c9oR8J.woff2 \u001b[36mevent=\u001b[0m0 \u001b[36mip=\u001b[0m198.41.200.43 \u001b[36mtype=\u001b[0mhttp\n",
            "/usr/local/lib/python3.11/dist-packages/sklearn/preprocessing/_label.py:909: UserWarning: unknown class(es) ['Bluish lips or nails', 'Inability to urinate'] will be ignored\n",
            "  warnings.warn(\n",
            "✅ Email sent successfully to chhavichadha07@gmail.com\n",
            "✅ Email sent successfully to chhavichadha07@gmail.com\n",
            "/usr/local/lib/python3.11/dist-packages/sklearn/preprocessing/_label.py:909: UserWarning:\n",
            "\n",
            "unknown class(es) ['cold'] will be ignored\n",
            "\n",
            "/usr/local/lib/python3.11/dist-packages/sklearn/preprocessing/_label.py:909: UserWarning:\n",
            "\n",
            "unknown class(es) ['cold'] will be ignored\n",
            "\n",
            "/usr/local/lib/python3.11/dist-packages/sklearn/preprocessing/_label.py:909: UserWarning:\n",
            "\n",
            "unknown class(es) ['Bluish lips or nails', 'Inability to urinate'] will be ignored\n",
            "\n",
            "✅ Email sent successfully to chhavichadha07@gmail.com\n",
            "/usr/local/lib/python3.11/dist-packages/sklearn/preprocessing/_label.py:909: UserWarning:\n",
            "\n",
            "unknown class(es) ['Bluish lips or nails', 'Inability to urinate'] will be ignored\n",
            "\n",
            "✅ Email sent successfully to chhavichadha07@gmail.com\n",
            "✅ Email sent successfully to chhavichadha07@gmail.com\n",
            "/usr/local/lib/python3.11/dist-packages/sklearn/preprocessing/_label.py:909: UserWarning:\n",
            "\n",
            "unknown class(es) ['cold', 'shortness of breath'] will be ignored\n",
            "\n",
            "✅ Email sent successfully to chhavichadha07@gmail.com\n"
          ]
        }
      ],
      "source": [
        "!streamlit run app.py & npx cloudflared tunnel --url http://localhost:8501\n"
      ]
    },
    {
      "cell_type": "code",
      "execution_count": null,
      "metadata": {
        "id": "JKPiqq6JdB6Y"
      },
      "outputs": [],
      "source": []
    },
    {
      "cell_type": "code",
      "source": [],
      "metadata": {
        "id": "A-8pwkDO5UnE"
      },
      "execution_count": null,
      "outputs": []
    }
  ],
  "metadata": {
    "colab": {
      "provenance": [],
      "authorship_tag": "ABX9TyN0ZdbKuFy5HFeF2xcPlXAr",
      "include_colab_link": true
    },
    "kernelspec": {
      "display_name": "Python 3",
      "name": "python3"
    },
    "language_info": {
      "name": "python"
    }
  },
  "nbformat": 4,
  "nbformat_minor": 0
}